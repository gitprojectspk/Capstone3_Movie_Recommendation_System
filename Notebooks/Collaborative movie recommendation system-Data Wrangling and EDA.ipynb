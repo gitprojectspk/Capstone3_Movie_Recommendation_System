{
 "cells": [
  {
   "cell_type": "markdown",
   "id": "f0950bea",
   "metadata": {},
   "source": [
    "# Collaborative movie recommendation system - EDA"
   ]
  },
  {
   "cell_type": "markdown",
   "id": "1c606a27",
   "metadata": {},
   "source": [
    "Whether you realize it or not, recommendations drive so many of our decisions on a daily basis. Be it obvious recommendations such as suggestions of new restaurants from friends, or a certain model of camera discussed in a blog, to less direct recommendations such as Netflix promoting shows you are likely to enjoy, or Amazon proposing other purchases that go well with what you are buying. \n",
    "\n",
    "There are two popular methods in recommender system, collaborative based filtering and content based filtering. \n",
    "- Content based filtering makes predictions of what the audience is likely to prefer based on the content properties, e.g. genre, language, video length. \n",
    "- Whereas collaborative filtering predicts based on what other similar users also prefer. As the result, collaborative filtering method is leaning towards instance based learning and usually applied by large companies with huge amount of data at hand.\n",
    "\n",
    "For this Project, I will build Collaborative  recommendation engine using movie database. I will be using Movie Database from kaggle (https://www.kaggle.com/code/rounakbanik/movie-recommender-systems/data)"
   ]
  },
  {
   "cell_type": "code",
   "execution_count": 2,
   "id": "fe46ee95",
   "metadata": {},
   "outputs": [],
   "source": [
    "import pandas as pd\n",
    "import numpy as np\n",
    "import matplotlib.pyplot as plt\n",
    "import seaborn as sns \n",
    "import warnings\n",
    "warnings.filterwarnings(action='ignore')"
   ]
  },
  {
   "cell_type": "code",
   "execution_count": 7,
   "id": "6c243434",
   "metadata": {},
   "outputs": [
    {
     "data": {
      "text/html": [
       "<div>\n",
       "<style scoped>\n",
       "    .dataframe tbody tr th:only-of-type {\n",
       "        vertical-align: middle;\n",
       "    }\n",
       "\n",
       "    .dataframe tbody tr th {\n",
       "        vertical-align: top;\n",
       "    }\n",
       "\n",
       "    .dataframe thead th {\n",
       "        text-align: right;\n",
       "    }\n",
       "</style>\n",
       "<table border=\"1\" class=\"dataframe\">\n",
       "  <thead>\n",
       "    <tr style=\"text-align: right;\">\n",
       "      <th></th>\n",
       "      <th>movieId</th>\n",
       "      <th>title</th>\n",
       "      <th>genres</th>\n",
       "    </tr>\n",
       "  </thead>\n",
       "  <tbody>\n",
       "    <tr>\n",
       "      <th>0</th>\n",
       "      <td>1</td>\n",
       "      <td>Toy Story (1995)</td>\n",
       "      <td>Adventure|Animation|Children|Comedy|Fantasy</td>\n",
       "    </tr>\n",
       "    <tr>\n",
       "      <th>1</th>\n",
       "      <td>2</td>\n",
       "      <td>Jumanji (1995)</td>\n",
       "      <td>Adventure|Children|Fantasy</td>\n",
       "    </tr>\n",
       "    <tr>\n",
       "      <th>2</th>\n",
       "      <td>3</td>\n",
       "      <td>Grumpier Old Men (1995)</td>\n",
       "      <td>Comedy|Romance</td>\n",
       "    </tr>\n",
       "    <tr>\n",
       "      <th>3</th>\n",
       "      <td>4</td>\n",
       "      <td>Waiting to Exhale (1995)</td>\n",
       "      <td>Comedy|Drama|Romance</td>\n",
       "    </tr>\n",
       "    <tr>\n",
       "      <th>4</th>\n",
       "      <td>5</td>\n",
       "      <td>Father of the Bride Part II (1995)</td>\n",
       "      <td>Comedy</td>\n",
       "    </tr>\n",
       "  </tbody>\n",
       "</table>\n",
       "</div>"
      ],
      "text/plain": [
       "   movieId                               title  \\\n",
       "0        1                    Toy Story (1995)   \n",
       "1        2                      Jumanji (1995)   \n",
       "2        3             Grumpier Old Men (1995)   \n",
       "3        4            Waiting to Exhale (1995)   \n",
       "4        5  Father of the Bride Part II (1995)   \n",
       "\n",
       "                                        genres  \n",
       "0  Adventure|Animation|Children|Comedy|Fantasy  \n",
       "1                   Adventure|Children|Fantasy  \n",
       "2                               Comedy|Romance  \n",
       "3                         Comedy|Drama|Romance  \n",
       "4                                       Comedy  "
      ]
     },
     "execution_count": 7,
     "metadata": {},
     "output_type": "execute_result"
    }
   ],
   "source": [
    "movies = pd.read_csv(\"../data/movies.csv\")\n",
    "movies.head()"
   ]
  },
  {
   "cell_type": "code",
   "execution_count": 8,
   "id": "20c4e6f9",
   "metadata": {},
   "outputs": [
    {
     "data": {
      "text/html": [
       "<div>\n",
       "<style scoped>\n",
       "    .dataframe tbody tr th:only-of-type {\n",
       "        vertical-align: middle;\n",
       "    }\n",
       "\n",
       "    .dataframe tbody tr th {\n",
       "        vertical-align: top;\n",
       "    }\n",
       "\n",
       "    .dataframe thead th {\n",
       "        text-align: right;\n",
       "    }\n",
       "</style>\n",
       "<table border=\"1\" class=\"dataframe\">\n",
       "  <thead>\n",
       "    <tr style=\"text-align: right;\">\n",
       "      <th></th>\n",
       "      <th>userId</th>\n",
       "      <th>movieId</th>\n",
       "      <th>rating</th>\n",
       "      <th>timestamp</th>\n",
       "    </tr>\n",
       "  </thead>\n",
       "  <tbody>\n",
       "    <tr>\n",
       "      <th>0</th>\n",
       "      <td>1</td>\n",
       "      <td>31</td>\n",
       "      <td>2.5</td>\n",
       "      <td>1260759144</td>\n",
       "    </tr>\n",
       "    <tr>\n",
       "      <th>1</th>\n",
       "      <td>1</td>\n",
       "      <td>1029</td>\n",
       "      <td>3.0</td>\n",
       "      <td>1260759179</td>\n",
       "    </tr>\n",
       "    <tr>\n",
       "      <th>2</th>\n",
       "      <td>1</td>\n",
       "      <td>1061</td>\n",
       "      <td>3.0</td>\n",
       "      <td>1260759182</td>\n",
       "    </tr>\n",
       "    <tr>\n",
       "      <th>3</th>\n",
       "      <td>1</td>\n",
       "      <td>1129</td>\n",
       "      <td>2.0</td>\n",
       "      <td>1260759185</td>\n",
       "    </tr>\n",
       "    <tr>\n",
       "      <th>4</th>\n",
       "      <td>1</td>\n",
       "      <td>1172</td>\n",
       "      <td>4.0</td>\n",
       "      <td>1260759205</td>\n",
       "    </tr>\n",
       "  </tbody>\n",
       "</table>\n",
       "</div>"
      ],
      "text/plain": [
       "   userId  movieId  rating   timestamp\n",
       "0       1       31     2.5  1260759144\n",
       "1       1     1029     3.0  1260759179\n",
       "2       1     1061     3.0  1260759182\n",
       "3       1     1129     2.0  1260759185\n",
       "4       1     1172     4.0  1260759205"
      ]
     },
     "execution_count": 8,
     "metadata": {},
     "output_type": "execute_result"
    }
   ],
   "source": [
    "df = pd.read_csv(\"../data/ratings_small.csv\")\n",
    "df.head()"
   ]
  },
  {
   "cell_type": "code",
   "execution_count": 9,
   "id": "41921af8",
   "metadata": {},
   "outputs": [],
   "source": [
    "df = pd.merge(movies, df).drop(['genres', 'timestamp'], axis=1)"
   ]
  },
  {
   "cell_type": "code",
   "execution_count": 10,
   "id": "22e6eb9b",
   "metadata": {},
   "outputs": [
    {
     "data": {
      "text/plain": [
       "(97243, 4)"
      ]
     },
     "execution_count": 10,
     "metadata": {},
     "output_type": "execute_result"
    }
   ],
   "source": [
    "df.shape"
   ]
  },
  {
   "cell_type": "markdown",
   "id": "62d249bd",
   "metadata": {},
   "source": [
    "Great, We have good amount of data for our analysis."
   ]
  },
  {
   "cell_type": "code",
   "execution_count": 11,
   "id": "ff5c9bf5",
   "metadata": {},
   "outputs": [
    {
     "data": {
      "text/plain": [
       "Index(['movieId', 'title', 'userId', 'rating'], dtype='object')"
      ]
     },
     "execution_count": 11,
     "metadata": {},
     "output_type": "execute_result"
    }
   ],
   "source": [
    "df.columns"
   ]
  },
  {
   "cell_type": "markdown",
   "id": "aaae3e9b",
   "metadata": {},
   "source": [
    "###### Exploratory Data Analysis:\n",
    "Lets explore the dataset to find some insights about the data."
   ]
  },
  {
   "cell_type": "code",
   "execution_count": 12,
   "id": "0234b36e",
   "metadata": {},
   "outputs": [
    {
     "name": "stdout",
     "output_type": "stream",
     "text": [
      "<class 'pandas.core.frame.DataFrame'>\n",
      "Int64Index: 97243 entries, 0 to 97242\n",
      "Data columns (total 4 columns):\n",
      " #   Column   Non-Null Count  Dtype  \n",
      "---  ------   --------------  -----  \n",
      " 0   movieId  97243 non-null  int64  \n",
      " 1   title    97243 non-null  object \n",
      " 2   userId   97243 non-null  int64  \n",
      " 3   rating   97243 non-null  float64\n",
      "dtypes: float64(1), int64(2), object(1)\n",
      "memory usage: 3.7+ MB\n"
     ]
    }
   ],
   "source": [
    "df.info()"
   ]
  },
  {
   "cell_type": "markdown",
   "id": "c165d183",
   "metadata": {},
   "source": [
    "Checking basic statistics of each column "
   ]
  },
  {
   "cell_type": "code",
   "execution_count": 13,
   "id": "d539abd4",
   "metadata": {},
   "outputs": [
    {
     "data": {
      "text/html": [
       "<div>\n",
       "<style scoped>\n",
       "    .dataframe tbody tr th:only-of-type {\n",
       "        vertical-align: middle;\n",
       "    }\n",
       "\n",
       "    .dataframe tbody tr th {\n",
       "        vertical-align: top;\n",
       "    }\n",
       "\n",
       "    .dataframe thead th {\n",
       "        text-align: right;\n",
       "    }\n",
       "</style>\n",
       "<table border=\"1\" class=\"dataframe\">\n",
       "  <thead>\n",
       "    <tr style=\"text-align: right;\">\n",
       "      <th></th>\n",
       "      <th>movieId</th>\n",
       "      <th>userId</th>\n",
       "      <th>rating</th>\n",
       "    </tr>\n",
       "  </thead>\n",
       "  <tbody>\n",
       "    <tr>\n",
       "      <th>count</th>\n",
       "      <td>97243.000000</td>\n",
       "      <td>97243.000000</td>\n",
       "      <td>97243.000000</td>\n",
       "    </tr>\n",
       "    <tr>\n",
       "      <th>mean</th>\n",
       "      <td>11889.784190</td>\n",
       "      <td>345.974271</td>\n",
       "      <td>3.549464</td>\n",
       "    </tr>\n",
       "    <tr>\n",
       "      <th>std</th>\n",
       "      <td>25496.569681</td>\n",
       "      <td>195.124426</td>\n",
       "      <td>1.054909</td>\n",
       "    </tr>\n",
       "    <tr>\n",
       "      <th>min</th>\n",
       "      <td>1.000000</td>\n",
       "      <td>1.000000</td>\n",
       "      <td>0.500000</td>\n",
       "    </tr>\n",
       "    <tr>\n",
       "      <th>25%</th>\n",
       "      <td>994.000000</td>\n",
       "      <td>178.000000</td>\n",
       "      <td>3.000000</td>\n",
       "    </tr>\n",
       "    <tr>\n",
       "      <th>50%</th>\n",
       "      <td>2353.000000</td>\n",
       "      <td>363.000000</td>\n",
       "      <td>4.000000</td>\n",
       "    </tr>\n",
       "    <tr>\n",
       "      <th>75%</th>\n",
       "      <td>5108.000000</td>\n",
       "      <td>518.000000</td>\n",
       "      <td>4.000000</td>\n",
       "    </tr>\n",
       "    <tr>\n",
       "      <th>max</th>\n",
       "      <td>161918.000000</td>\n",
       "      <td>671.000000</td>\n",
       "      <td>5.000000</td>\n",
       "    </tr>\n",
       "  </tbody>\n",
       "</table>\n",
       "</div>"
      ],
      "text/plain": [
       "             movieId        userId        rating\n",
       "count   97243.000000  97243.000000  97243.000000\n",
       "mean    11889.784190    345.974271      3.549464\n",
       "std     25496.569681    195.124426      1.054909\n",
       "min         1.000000      1.000000      0.500000\n",
       "25%       994.000000    178.000000      3.000000\n",
       "50%      2353.000000    363.000000      4.000000\n",
       "75%      5108.000000    518.000000      4.000000\n",
       "max    161918.000000    671.000000      5.000000"
      ]
     },
     "execution_count": 13,
     "metadata": {},
     "output_type": "execute_result"
    }
   ],
   "source": [
    "df.describe()"
   ]
  },
  {
   "cell_type": "markdown",
   "id": "79baf786",
   "metadata": {},
   "source": [
    "- The minimum rating is 0.5 and max is 5. \n",
    "- We have total 671 users."
   ]
  },
  {
   "cell_type": "markdown",
   "id": "bfb4e508",
   "metadata": {},
   "source": [
    "Check if there are any missing values"
   ]
  },
  {
   "cell_type": "code",
   "execution_count": 14,
   "id": "60c96013",
   "metadata": {},
   "outputs": [
    {
     "data": {
      "text/plain": [
       "movieId    0\n",
       "title      0\n",
       "userId     0\n",
       "rating     0\n",
       "dtype: int64"
      ]
     },
     "execution_count": 14,
     "metadata": {},
     "output_type": "execute_result"
    }
   ],
   "source": [
    "df.isnull().sum()"
   ]
  },
  {
   "cell_type": "markdown",
   "id": "bbafd364",
   "metadata": {},
   "source": [
    "Great we do not have any null value"
   ]
  },
  {
   "cell_type": "markdown",
   "id": "5841e59b",
   "metadata": {},
   "source": [
    "Lets find how many distinct users and movies are included in the dataset"
   ]
  },
  {
   "cell_type": "code",
   "execution_count": 15,
   "id": "9db897a5",
   "metadata": {},
   "outputs": [
    {
     "data": {
      "text/plain": [
       "movieId    7063\n",
       "title      7062\n",
       "userId      671\n",
       "rating       10\n",
       "dtype: int64"
      ]
     },
     "execution_count": 15,
     "metadata": {},
     "output_type": "execute_result"
    }
   ],
   "source": [
    "# Calculate the number of unique values\n",
    "df.nunique()"
   ]
  },
  {
   "cell_type": "code",
   "execution_count": 16,
   "id": "ae2091c2",
   "metadata": {},
   "outputs": [
    {
     "data": {
      "text/plain": [
       "array([3. , 4. , 5. , 2. , 3.5, 1. , 2.5, 4.5, 1.5, 0.5])"
      ]
     },
     "execution_count": 16,
     "metadata": {},
     "output_type": "execute_result"
    }
   ],
   "source": [
    "df.rating.unique()"
   ]
  },
  {
   "cell_type": "code",
   "execution_count": 17,
   "id": "a55bbe66",
   "metadata": {},
   "outputs": [
    {
     "data": {
      "text/plain": [
       "<AxesSubplot:>"
      ]
     },
     "execution_count": 17,
     "metadata": {},
     "output_type": "execute_result"
    },
    {
     "data": {
      "image/png": "[encoded data removed]",
      "text/plain": [
       "<Figure size 432x288 with 1 Axes>"
      ]
     },
     "metadata": {
      "needs_background": "light"
     },
     "output_type": "display_data"
    }
   ],
   "source": [
    "sns.barplot(x = df.columns, y = df.nunique(axis=0))"
   ]
  },
  {
   "cell_type": "markdown",
   "id": "9e9c1e86",
   "metadata": {},
   "source": [
    "There are close to 670 users and 7000 movies and 10 unique values of ratings."
   ]
  },
  {
   "cell_type": "markdown",
   "id": "18b0a33d",
   "metadata": {},
   "source": [
    "Lets perform some univariate analysis.\n",
    "\n",
    "Univariate analysis — the analysis of one feature at a time.\n",
    "This will help us fin answers for questions like \n",
    "1.\twhat are the movies with most reviews?\n",
    "2.\twho are the users that provide most reviews?\n",
    "3.\thow does the distribution looks like for ratings?"
   ]
  },
  {
   "cell_type": "markdown",
   "id": "e39a2de3",
   "metadata": {},
   "source": [
    "Calculate the number of times each movie occurs in the dataset.\n",
    "Print the titles of the top five most frequently seen movies."
   ]
  },
  {
   "cell_type": "code",
   "execution_count": 18,
   "id": "0102797d",
   "metadata": {},
   "outputs": [],
   "source": [
    "# Get the counts of occurrences of each movie title\n",
    "movie_popularity = df[\"title\"].value_counts()[:5]\n",
    "## Inspect the most common values\n",
    "#print(movie_popularity.head().index)"
   ]
  },
  {
   "cell_type": "code",
   "execution_count": 19,
   "id": "44d774ac",
   "metadata": {},
   "outputs": [
    {
     "name": "stdout",
     "output_type": "stream",
     "text": [
      "Forrest Gump (1994)                          341\n",
      "Pulp Fiction (1994)                          324\n",
      "Shawshank Redemption, The (1994)             311\n",
      "Silence of the Lambs, The (1991)             304\n",
      "Star Wars: Episode IV - A New Hope (1977)    291\n",
      "Name: title, dtype: int64\n"
     ]
    }
   ],
   "source": [
    "print(movie_popularity)"
   ]
  },
  {
   "cell_type": "markdown",
   "id": "f0a80fc3",
   "metadata": {},
   "source": [
    "Forrest Gump is the most viewed movie by far."
   ]
  },
  {
   "cell_type": "code",
   "execution_count": 20,
   "id": "0f77835f",
   "metadata": {},
   "outputs": [
    {
     "data": {
      "text/plain": [
       "356       341\n",
       "296       324\n",
       "318       311\n",
       "593       304\n",
       "260       291\n",
       "         ... \n",
       "69118       1\n",
       "5787        1\n",
       "68959       1\n",
       "5788        1\n",
       "161918      1\n",
       "Name: movieId, Length: 7063, dtype: int64"
      ]
     },
     "execution_count": 20,
     "metadata": {},
     "output_type": "execute_result"
    }
   ],
   "source": [
    "df['movieId'].value_counts()"
   ]
  },
  {
   "cell_type": "code",
   "execution_count": 21,
   "id": "8f29ca32",
   "metadata": {},
   "outputs": [
    {
     "data": {
      "text/plain": [
       "<AxesSubplot:>"
      ]
     },
     "execution_count": 21,
     "metadata": {},
     "output_type": "execute_result"
    },
    {
     "data": {
      "image/png": "[encoded data removed]",
      "text/plain": [
       "<Figure size 1152x288 with 1 Axes>"
      ]
     },
     "metadata": {
      "needs_background": "light"
     },
     "output_type": "display_data"
    }
   ],
   "source": [
    "from matplotlib import cm\n",
    "color = cm.inferno_r(np.linspace(.4, .8, 30))\n",
    "color\n",
    "\n",
    "# univariate analysis\n",
    "plt.figure(1, figsize = (16,4))\n",
    "df['movieId'].value_counts()[:50].plot(kind = 'bar', stacked=True, color=color) #take top 50 movies\n"
   ]
  },
  {
   "cell_type": "markdown",
   "id": "49aeedd0",
   "metadata": {},
   "source": [
    "Here we can see that ratings are not evenly distributed among movies.\n",
    "The movie with id 356[Forrest Gump] is the most rated movie, however it does not have more that 341 ratings."
   ]
  },
  {
   "cell_type": "markdown",
   "id": "af9574f6",
   "metadata": {},
   "source": [
    "Lets check userid column."
   ]
  },
  {
   "cell_type": "code",
   "execution_count": 22,
   "id": "0befac0a",
   "metadata": {},
   "outputs": [
    {
     "data": {
      "text/plain": [
       "547    1953\n",
       "564    1763\n",
       "624    1734\n",
       "15     1640\n",
       "73     1529\n",
       "       ... \n",
       "249      20\n",
       "498      20\n",
       "448      20\n",
       "444      19\n",
       "485      19\n",
       "Name: userId, Length: 671, dtype: int64"
      ]
     },
     "execution_count": 22,
     "metadata": {},
     "output_type": "execute_result"
    }
   ],
   "source": [
    "df['userId'].value_counts()"
   ]
  },
  {
   "cell_type": "code",
   "execution_count": 23,
   "id": "93e5ebc5",
   "metadata": {},
   "outputs": [
    {
     "data": {
      "text/plain": [
       "<AxesSubplot:>"
      ]
     },
     "execution_count": 23,
     "metadata": {},
     "output_type": "execute_result"
    },
    {
     "data": {
      "image/png": "[encoded data removed]",
      "text/plain": [
       "<Figure size 1152x288 with 1 Axes>"
      ]
     },
     "metadata": {
      "needs_background": "light"
     },
     "output_type": "display_data"
    }
   ],
   "source": [
    "color = cm.inferno_r(np.linspace(.2, .3, 20))\n",
    "color\n",
    "plt.figure(2, figsize = (16,4))\n",
    "df['userId'].value_counts()[:50].plot(kind = 'bar', color=color) #take top 50 users"
   ]
  },
  {
   "cell_type": "markdown",
   "id": "ed21fb1c",
   "metadata": {},
   "source": [
    "users have provided 1953 ratings."
   ]
  },
  {
   "cell_type": "markdown",
   "id": "178c8dd7",
   "metadata": {},
   "source": [
    "Display a histogram of the values in the Rating column"
   ]
  },
  {
   "cell_type": "code",
   "execution_count": 24,
   "id": "3d1030f8",
   "metadata": {},
   "outputs": [
    {
     "data": {
      "text/plain": [
       "<AxesSubplot:ylabel='Frequency'>"
      ]
     },
     "execution_count": 24,
     "metadata": {},
     "output_type": "execute_result"
    },
    {
     "data": {
      "image/png": "[encoded data removed]",
      "text/plain": [
       "<Figure size 576x288 with 1 Axes>"
      ]
     },
     "metadata": {
      "needs_background": "light"
     },
     "output_type": "display_data"
    }
   ],
   "source": [
    "plt.figure(3, figsize = (8,4))\n",
    "df['rating'].plot(kind = 'hist')"
   ]
  },
  {
   "cell_type": "markdown",
   "id": "6f09f09a",
   "metadata": {},
   "source": [
    "The graph shows, most of the users have given rating of 4."
   ]
  },
  {
   "cell_type": "markdown",
   "id": "0d97a807",
   "metadata": {},
   "source": [
    "Just because a movie has been watched by a lot of people doesn't necessarily mean viewers enjoyed it. To understand how a viewer actually felt about a movie, more explicit data is useful. Lets find the average rating of each movie in the dataset, and then find the movie with the highest average rating."
   ]
  },
  {
   "cell_type": "code",
   "execution_count": 25,
   "id": "ddc5a72d",
   "metadata": {},
   "outputs": [
    {
     "name": "stdout",
     "output_type": "stream",
     "text": [
      "                                                    rating\n",
      "title                                                     \n",
      "Family Stone, The (2005)                               5.0\n",
      "Kidnapping, Caucasian Style (Kavkazskaya plenni...     5.0\n",
      "Female Perversions (1996)                              5.0\n",
      "Grass Is Greener, The (1960)                           5.0\n",
      "Ben X (2007)                                           5.0\n"
     ]
    }
   ],
   "source": [
    "# Find the mean of the ratings given to each title\n",
    "avg_rating_df = df[[\"title\", \"rating\"]].groupby('title').mean()\n",
    "\n",
    "# Order the entries by highest average rating to lowest\n",
    "sorted_average_ratings = avg_rating_df.sort_values(by='rating', ascending=False)\n",
    "\n",
    "# Inspect the top movies\n",
    "print(sorted_average_ratings.head())"
   ]
  },
  {
   "cell_type": "markdown",
   "id": "d205c118",
   "metadata": {},
   "source": [
    "The highest ranked movie is shown as Family Stone, The (2005). which does not seem to be heard of as popular movie. This seems to be because of very infrequently-viewed movies are skewing the results. "
   ]
  },
  {
   "cell_type": "code",
   "execution_count": 26,
   "id": "4f70518c",
   "metadata": {},
   "outputs": [
    {
     "data": {
      "text/html": [
       "<div>\n",
       "<style scoped>\n",
       "    .dataframe tbody tr th:only-of-type {\n",
       "        vertical-align: middle;\n",
       "    }\n",
       "\n",
       "    .dataframe tbody tr th {\n",
       "        vertical-align: top;\n",
       "    }\n",
       "\n",
       "    .dataframe thead th {\n",
       "        text-align: right;\n",
       "    }\n",
       "</style>\n",
       "<table border=\"1\" class=\"dataframe\">\n",
       "  <thead>\n",
       "    <tr style=\"text-align: right;\">\n",
       "      <th></th>\n",
       "      <th>movieId</th>\n",
       "      <th>title</th>\n",
       "      <th>userId</th>\n",
       "      <th>rating</th>\n",
       "    </tr>\n",
       "  </thead>\n",
       "  <tbody>\n",
       "    <tr>\n",
       "      <th>85903</th>\n",
       "      <td>41573</td>\n",
       "      <td>Family Stone, The (2005)</td>\n",
       "      <td>382</td>\n",
       "      <td>5.0</td>\n",
       "    </tr>\n",
       "  </tbody>\n",
       "</table>\n",
       "</div>"
      ],
      "text/plain": [
       "       movieId                     title  userId  rating\n",
       "85903    41573  Family Stone, The (2005)     382     5.0"
      ]
     },
     "execution_count": 26,
     "metadata": {},
     "output_type": "execute_result"
    }
   ],
   "source": [
    "df[df['title'] == 'Family Stone, The (2005)']"
   ]
  },
  {
   "cell_type": "markdown",
   "id": "e69aeba9",
   "metadata": {},
   "source": [
    "As we can see, above ovie is highly ranked but only one user has rated this movie."
   ]
  },
  {
   "cell_type": "markdown",
   "id": "9ec55f3f",
   "metadata": {},
   "source": [
    "Let's find the average rating only for movies that have been reviewed more than 50 times."
   ]
  },
  {
   "cell_type": "code",
   "execution_count": 27,
   "id": "97cff76c",
   "metadata": {},
   "outputs": [
    {
     "name": "stdout",
     "output_type": "stream",
     "text": [
      "Forrest Gump (1994)                                                                                                          341\n",
      "Pulp Fiction (1994)                                                                                                          324\n",
      "Shawshank Redemption, The (1994)                                                                                             311\n",
      "Silence of the Lambs, The (1991)                                                                                             304\n",
      "Star Wars: Episode IV - A New Hope (1977)                                                                                    291\n",
      "                                                                                                                            ... \n",
      "In the Electric Mist (2009)                                                                                                    1\n",
      "Truth About Charlie, The (2002)                                                                                                1\n",
      "Fullmetal Alchemist the Movie: Conqueror of Shamballa (Gekijô-ban hagane no renkinjutsushi: Shanbara wo yuku mono) (2005)      1\n",
      "All or Nothing (2002)                                                                                                          1\n",
      "Sharknado 4: The 4th Awakens (2016)                                                                                            1\n",
      "Name: title, Length: 7062, dtype: int64\n"
     ]
    }
   ],
   "source": [
    "# Create a list of only the frequently watched movies\n",
    "movie_popularity = df[\"title\"].value_counts()\n",
    "print(movie_popularity)\n",
    "popular_movies = movie_popularity[movie_popularity > 50].index"
   ]
  },
  {
   "cell_type": "code",
   "execution_count": 28,
   "id": "f28bf516",
   "metadata": {},
   "outputs": [
    {
     "name": "stdout",
     "output_type": "stream",
     "text": [
      "       movieId             title  userId  rating\n",
      "0            1  Toy Story (1995)       7     3.0\n",
      "1            1  Toy Story (1995)       9     4.0\n",
      "2            1  Toy Story (1995)      13     5.0\n",
      "3            1  Toy Story (1995)      15     2.0\n",
      "4            1  Toy Story (1995)      19     3.0\n",
      "...        ...               ...     ...     ...\n",
      "92624    79132  Inception (2010)     628     3.5\n",
      "92625    79132  Inception (2010)     630     3.5\n",
      "92626    79132  Inception (2010)     655     2.0\n",
      "92627    79132  Inception (2010)     660     4.5\n",
      "92628    79132  Inception (2010)     664     5.0\n",
      "\n",
      "[42633 rows x 4 columns]\n"
     ]
    }
   ],
   "source": [
    "# Use this popular_movies list to filter the original DataFrame\n",
    "popular_movies_rankings = df[df[\"title\"].isin(popular_movies)]\n",
    "\n",
    "# Inspect the movies watched over 50 times\n",
    "print(popular_movies_rankings)"
   ]
  },
  {
   "cell_type": "code",
   "execution_count": 29,
   "id": "c77fc9fb",
   "metadata": {},
   "outputs": [
    {
     "name": "stdout",
     "output_type": "stream",
     "text": [
      "                                    rating\n",
      "title                                     \n",
      "Godfather, The (1972)             4.487500\n",
      "Shawshank Redemption, The (1994)  4.487138\n",
      "Maltese Falcon, The (1941)        4.387097\n",
      "Godfather: Part II, The (1974)    4.385185\n",
      "Usual Suspects, The (1995)        4.370647\n"
     ]
    }
   ],
   "source": [
    "# Find the average rating given to these frequently watched films\n",
    "popular_movies_average_rankings = popular_movies_rankings[[\"title\", \"rating\"]].groupby('title').mean()\n",
    "print(popular_movies_average_rankings.sort_values(by=\"rating\", ascending=False).head())"
   ]
  },
  {
   "cell_type": "markdown",
   "id": "c84445d7",
   "metadata": {},
   "source": [
    "What is the distribution of ratings given to each movie?"
   ]
  },
  {
   "cell_type": "code",
   "execution_count": 30,
   "id": "6f9724b1",
   "metadata": {},
   "outputs": [
    {
     "data": {
      "text/plain": [
       "<AxesSubplot:>"
      ]
     },
     "execution_count": 30,
     "metadata": {},
     "output_type": "execute_result"
    },
    {
     "data": {
      "image/png": "[encoded data removed]",
      "text/plain": [
       "<Figure size 432x288 with 1 Axes>"
      ]
     },
     "metadata": {
      "needs_background": "light"
     },
     "output_type": "display_data"
    }
   ],
   "source": [
    "ratings_per_user = df.groupby('userId')['movieId'].count() \n",
    "ratings_per_user.hist()"
   ]
  },
  {
   "cell_type": "markdown",
   "id": "9aea74e1",
   "metadata": {},
   "source": [
    "The histogram shows that most users (roughly 560 out of 671 –80%) have less than 250 ratings."
   ]
  },
  {
   "cell_type": "markdown",
   "id": "419ca3c3",
   "metadata": {},
   "source": [
    "What is the distribution of users who provide ratings?"
   ]
  },
  {
   "cell_type": "code",
   "execution_count": 31,
   "id": "c390e245",
   "metadata": {},
   "outputs": [
    {
     "data": {
      "text/plain": [
       "<AxesSubplot:>"
      ]
     },
     "execution_count": 31,
     "metadata": {},
     "output_type": "execute_result"
    },
    {
     "data": {
      "image/png": "[encoded data removed]",
      "text/plain": [
       "<Figure size 432x288 with 1 Axes>"
      ]
     },
     "metadata": {
      "needs_background": "light"
     },
     "output_type": "display_data"
    }
   ],
   "source": [
    "ratings_per_movie = df.groupby('movieId')['userId'].count() \n",
    "ratings_per_movie.hist()"
   ]
  },
  {
   "cell_type": "markdown",
   "id": "739c451a",
   "metadata": {},
   "source": [
    "The histogram shows that most movies (roughly 6500 out of 7063 –90%) have less than 30 ratings."
   ]
  },
  {
   "cell_type": "code",
   "execution_count": null,
   "id": "ad02185d",
   "metadata": {},
   "outputs": [],
   "source": []
  }
 ],
 "metadata": {
  "kernelspec": {
   "display_name": "Python 3",
   "language": "python",
   "name": "python3"
  },
  "language_info": {
   "codemirror_mode": {
    "name": "ipython",
    "version": 3
   },
   "file_extension": ".py",
   "mimetype": "text/x-python",
   "name": "python",
   "nbconvert_exporter": "python",
   "pygments_lexer": "ipython3",
   "version": "3.8.8"
  }
 },
 "nbformat": 4,
 "nbformat_minor": 5
}
