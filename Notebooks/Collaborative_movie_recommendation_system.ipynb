{
 "cells": [
  {
   "cell_type": "markdown",
   "id": "f0950bea",
   "metadata": {},
   "source": [
    "# Collaborative Movie recommendation system"
   ]
  },
  {
   "cell_type": "markdown",
   "id": "7823bd9d",
   "metadata": {},
   "source": [
    "Whether you realize it or not, recommendations drive so many of our decisions on a daily basis. Be it obvious recommendations such as suggestions of new restaurants from friends, or a certain model of camera discussed in a blog, to less direct recommendations such as Netflix promoting shows you are likely to enjoy, or Amazon proposing other purchases that go well with what you are buying. \n",
    "\n",
    "There are two popular methods in recommender system, collaborative based filtering and content based filtering. \n",
    "- Content based filtering makes predictions of what the audience is likely to prefer based on the content properties, e.g. genre, language, video length. \n",
    "- Whereas collaborative filtering predicts based on what other similar users also prefer. "
   ]
  },
  {
   "cell_type": "markdown",
   "id": "1c606a27",
   "metadata": {},
   "source": [
    "Lets build Collaborative  recommendation engine using movie database. \n",
    "I will be using Movie Database from kaggle (https://www.kaggle.com/code/rounakbanik/movie-recommender-systems/data)"
   ]
  },
  {
   "cell_type": "code",
   "execution_count": 1,
   "id": "fe46ee95",
   "metadata": {},
   "outputs": [],
   "source": [
    "import pandas as pd\n",
    "import numpy as np\n",
    "import matplotlib.pyplot as plt\n",
    "import seaborn as sns \n",
    "import warnings\n",
    "warnings.filterwarnings(action='ignore')"
   ]
  },
  {
   "cell_type": "markdown",
   "id": "d9456b4d",
   "metadata": {},
   "source": [
    "# Data Wrangling"
   ]
  },
  {
   "cell_type": "code",
   "execution_count": 2,
   "id": "6c243434",
   "metadata": {},
   "outputs": [
    {
     "data": {
      "text/html": [
       "<div>\n",
       "<style scoped>\n",
       "    .dataframe tbody tr th:only-of-type {\n",
       "        vertical-align: middle;\n",
       "    }\n",
       "\n",
       "    .dataframe tbody tr th {\n",
       "        vertical-align: top;\n",
       "    }\n",
       "\n",
       "    .dataframe thead th {\n",
       "        text-align: right;\n",
       "    }\n",
       "</style>\n",
       "<table border=\"1\" class=\"dataframe\">\n",
       "  <thead>\n",
       "    <tr style=\"text-align: right;\">\n",
       "      <th></th>\n",
       "      <th>movieId</th>\n",
       "      <th>title</th>\n",
       "      <th>genres</th>\n",
       "    </tr>\n",
       "  </thead>\n",
       "  <tbody>\n",
       "    <tr>\n",
       "      <th>0</th>\n",
       "      <td>1</td>\n",
       "      <td>Toy Story (1995)</td>\n",
       "      <td>Adventure|Animation|Children|Comedy|Fantasy</td>\n",
       "    </tr>\n",
       "    <tr>\n",
       "      <th>1</th>\n",
       "      <td>2</td>\n",
       "      <td>Jumanji (1995)</td>\n",
       "      <td>Adventure|Children|Fantasy</td>\n",
       "    </tr>\n",
       "    <tr>\n",
       "      <th>2</th>\n",
       "      <td>3</td>\n",
       "      <td>Grumpier Old Men (1995)</td>\n",
       "      <td>Comedy|Romance</td>\n",
       "    </tr>\n",
       "    <tr>\n",
       "      <th>3</th>\n",
       "      <td>4</td>\n",
       "      <td>Waiting to Exhale (1995)</td>\n",
       "      <td>Comedy|Drama|Romance</td>\n",
       "    </tr>\n",
       "    <tr>\n",
       "      <th>4</th>\n",
       "      <td>5</td>\n",
       "      <td>Father of the Bride Part II (1995)</td>\n",
       "      <td>Comedy</td>\n",
       "    </tr>\n",
       "  </tbody>\n",
       "</table>\n",
       "</div>"
      ],
      "text/plain": [
       "   movieId                               title  \\\n",
       "0        1                    Toy Story (1995)   \n",
       "1        2                      Jumanji (1995)   \n",
       "2        3             Grumpier Old Men (1995)   \n",
       "3        4            Waiting to Exhale (1995)   \n",
       "4        5  Father of the Bride Part II (1995)   \n",
       "\n",
       "                                        genres  \n",
       "0  Adventure|Animation|Children|Comedy|Fantasy  \n",
       "1                   Adventure|Children|Fantasy  \n",
       "2                               Comedy|Romance  \n",
       "3                         Comedy|Drama|Romance  \n",
       "4                                       Comedy  "
      ]
     },
     "execution_count": 2,
     "metadata": {},
     "output_type": "execute_result"
    }
   ],
   "source": [
    "movies = pd.read_csv(\"../data/movies.csv\")\n",
    "movies.head()"
   ]
  },
  {
   "cell_type": "code",
   "execution_count": 3,
   "id": "20c4e6f9",
   "metadata": {},
   "outputs": [
    {
     "data": {
      "text/html": [
       "<div>\n",
       "<style scoped>\n",
       "    .dataframe tbody tr th:only-of-type {\n",
       "        vertical-align: middle;\n",
       "    }\n",
       "\n",
       "    .dataframe tbody tr th {\n",
       "        vertical-align: top;\n",
       "    }\n",
       "\n",
       "    .dataframe thead th {\n",
       "        text-align: right;\n",
       "    }\n",
       "</style>\n",
       "<table border=\"1\" class=\"dataframe\">\n",
       "  <thead>\n",
       "    <tr style=\"text-align: right;\">\n",
       "      <th></th>\n",
       "      <th>userId</th>\n",
       "      <th>movieId</th>\n",
       "      <th>rating</th>\n",
       "      <th>timestamp</th>\n",
       "    </tr>\n",
       "  </thead>\n",
       "  <tbody>\n",
       "    <tr>\n",
       "      <th>0</th>\n",
       "      <td>1</td>\n",
       "      <td>31</td>\n",
       "      <td>2.5</td>\n",
       "      <td>1260759144</td>\n",
       "    </tr>\n",
       "    <tr>\n",
       "      <th>1</th>\n",
       "      <td>1</td>\n",
       "      <td>1029</td>\n",
       "      <td>3.0</td>\n",
       "      <td>1260759179</td>\n",
       "    </tr>\n",
       "    <tr>\n",
       "      <th>2</th>\n",
       "      <td>1</td>\n",
       "      <td>1061</td>\n",
       "      <td>3.0</td>\n",
       "      <td>1260759182</td>\n",
       "    </tr>\n",
       "    <tr>\n",
       "      <th>3</th>\n",
       "      <td>1</td>\n",
       "      <td>1129</td>\n",
       "      <td>2.0</td>\n",
       "      <td>1260759185</td>\n",
       "    </tr>\n",
       "    <tr>\n",
       "      <th>4</th>\n",
       "      <td>1</td>\n",
       "      <td>1172</td>\n",
       "      <td>4.0</td>\n",
       "      <td>1260759205</td>\n",
       "    </tr>\n",
       "  </tbody>\n",
       "</table>\n",
       "</div>"
      ],
      "text/plain": [
       "   userId  movieId  rating   timestamp\n",
       "0       1       31     2.5  1260759144\n",
       "1       1     1029     3.0  1260759179\n",
       "2       1     1061     3.0  1260759182\n",
       "3       1     1129     2.0  1260759185\n",
       "4       1     1172     4.0  1260759205"
      ]
     },
     "execution_count": 3,
     "metadata": {},
     "output_type": "execute_result"
    }
   ],
   "source": [
    "df = pd.read_csv(\"../data/ratings_small.csv\")\n",
    "df.head()"
   ]
  },
  {
   "cell_type": "code",
   "execution_count": 4,
   "id": "41921af8",
   "metadata": {},
   "outputs": [],
   "source": [
    "df = pd.merge(movies, df).drop(['genres', 'timestamp'], axis=1)"
   ]
  },
  {
   "cell_type": "code",
   "execution_count": 5,
   "id": "22e6eb9b",
   "metadata": {},
   "outputs": [
    {
     "data": {
      "text/plain": [
       "(97243, 4)"
      ]
     },
     "execution_count": 5,
     "metadata": {},
     "output_type": "execute_result"
    }
   ],
   "source": [
    "df.shape"
   ]
  },
  {
   "cell_type": "code",
   "execution_count": 10,
   "id": "fd195b6b",
   "metadata": {},
   "outputs": [
    {
     "data": {
      "text/html": [
       "<div>\n",
       "<style scoped>\n",
       "    .dataframe tbody tr th:only-of-type {\n",
       "        vertical-align: middle;\n",
       "    }\n",
       "\n",
       "    .dataframe tbody tr th {\n",
       "        vertical-align: top;\n",
       "    }\n",
       "\n",
       "    .dataframe thead th {\n",
       "        text-align: right;\n",
       "    }\n",
       "</style>\n",
       "<table border=\"1\" class=\"dataframe\">\n",
       "  <thead>\n",
       "    <tr style=\"text-align: right;\">\n",
       "      <th></th>\n",
       "      <th>movieId</th>\n",
       "      <th>title</th>\n",
       "      <th>userId</th>\n",
       "      <th>rating</th>\n",
       "    </tr>\n",
       "  </thead>\n",
       "  <tbody>\n",
       "    <tr>\n",
       "      <th>0</th>\n",
       "      <td>1</td>\n",
       "      <td>Toy Story (1995)</td>\n",
       "      <td>7</td>\n",
       "      <td>3.0</td>\n",
       "    </tr>\n",
       "    <tr>\n",
       "      <th>1</th>\n",
       "      <td>1</td>\n",
       "      <td>Toy Story (1995)</td>\n",
       "      <td>9</td>\n",
       "      <td>4.0</td>\n",
       "    </tr>\n",
       "    <tr>\n",
       "      <th>2</th>\n",
       "      <td>1</td>\n",
       "      <td>Toy Story (1995)</td>\n",
       "      <td>13</td>\n",
       "      <td>5.0</td>\n",
       "    </tr>\n",
       "    <tr>\n",
       "      <th>3</th>\n",
       "      <td>1</td>\n",
       "      <td>Toy Story (1995)</td>\n",
       "      <td>15</td>\n",
       "      <td>2.0</td>\n",
       "    </tr>\n",
       "    <tr>\n",
       "      <th>4</th>\n",
       "      <td>1</td>\n",
       "      <td>Toy Story (1995)</td>\n",
       "      <td>19</td>\n",
       "      <td>3.0</td>\n",
       "    </tr>\n",
       "  </tbody>\n",
       "</table>\n",
       "</div>"
      ],
      "text/plain": [
       "   movieId             title  userId  rating\n",
       "0        1  Toy Story (1995)       7     3.0\n",
       "1        1  Toy Story (1995)       9     4.0\n",
       "2        1  Toy Story (1995)      13     5.0\n",
       "3        1  Toy Story (1995)      15     2.0\n",
       "4        1  Toy Story (1995)      19     3.0"
      ]
     },
     "execution_count": 10,
     "metadata": {},
     "output_type": "execute_result"
    }
   ],
   "source": [
    "df.head()"
   ]
  },
  {
   "cell_type": "markdown",
   "id": "62d249bd",
   "metadata": {},
   "source": [
    "Great, We have good amount of data for our analysis."
   ]
  },
  {
   "cell_type": "code",
   "execution_count": 8,
   "id": "ff5c9bf5",
   "metadata": {},
   "outputs": [
    {
     "data": {
      "text/plain": [
       "Index(['movieId', 'title', 'userId', 'rating'], dtype='object')"
      ]
     },
     "execution_count": 8,
     "metadata": {},
     "output_type": "execute_result"
    }
   ],
   "source": [
    "df.columns"
   ]
  },
  {
   "cell_type": "code",
   "execution_count": 196,
   "id": "0234b36e",
   "metadata": {},
   "outputs": [
    {
     "name": "stdout",
     "output_type": "stream",
     "text": [
      "<class 'pandas.core.frame.DataFrame'>\n",
      "Int64Index: 97243 entries, 0 to 97242\n",
      "Data columns (total 4 columns):\n",
      " #   Column   Non-Null Count  Dtype  \n",
      "---  ------   --------------  -----  \n",
      " 0   movieId  97243 non-null  int64  \n",
      " 1   title    97243 non-null  object \n",
      " 2   userId   97243 non-null  int64  \n",
      " 3   rating   97243 non-null  float64\n",
      "dtypes: float64(1), int64(2), object(1)\n",
      "memory usage: 3.7+ MB\n"
     ]
    }
   ],
   "source": [
    "df.info()"
   ]
  },
  {
   "cell_type": "markdown",
   "id": "c165d183",
   "metadata": {},
   "source": [
    "Checking basic statistics of each column "
   ]
  },
  {
   "cell_type": "code",
   "execution_count": 197,
   "id": "d539abd4",
   "metadata": {},
   "outputs": [
    {
     "data": {
      "text/html": [
       "<div>\n",
       "<style scoped>\n",
       "    .dataframe tbody tr th:only-of-type {\n",
       "        vertical-align: middle;\n",
       "    }\n",
       "\n",
       "    .dataframe tbody tr th {\n",
       "        vertical-align: top;\n",
       "    }\n",
       "\n",
       "    .dataframe thead th {\n",
       "        text-align: right;\n",
       "    }\n",
       "</style>\n",
       "<table border=\"1\" class=\"dataframe\">\n",
       "  <thead>\n",
       "    <tr style=\"text-align: right;\">\n",
       "      <th></th>\n",
       "      <th>movieId</th>\n",
       "      <th>userId</th>\n",
       "      <th>rating</th>\n",
       "    </tr>\n",
       "  </thead>\n",
       "  <tbody>\n",
       "    <tr>\n",
       "      <th>count</th>\n",
       "      <td>97243.000000</td>\n",
       "      <td>97243.000000</td>\n",
       "      <td>97243.000000</td>\n",
       "    </tr>\n",
       "    <tr>\n",
       "      <th>mean</th>\n",
       "      <td>11889.784190</td>\n",
       "      <td>345.974271</td>\n",
       "      <td>3.549464</td>\n",
       "    </tr>\n",
       "    <tr>\n",
       "      <th>std</th>\n",
       "      <td>25496.569681</td>\n",
       "      <td>195.124426</td>\n",
       "      <td>1.054909</td>\n",
       "    </tr>\n",
       "    <tr>\n",
       "      <th>min</th>\n",
       "      <td>1.000000</td>\n",
       "      <td>1.000000</td>\n",
       "      <td>0.500000</td>\n",
       "    </tr>\n",
       "    <tr>\n",
       "      <th>25%</th>\n",
       "      <td>994.000000</td>\n",
       "      <td>178.000000</td>\n",
       "      <td>3.000000</td>\n",
       "    </tr>\n",
       "    <tr>\n",
       "      <th>50%</th>\n",
       "      <td>2353.000000</td>\n",
       "      <td>363.000000</td>\n",
       "      <td>4.000000</td>\n",
       "    </tr>\n",
       "    <tr>\n",
       "      <th>75%</th>\n",
       "      <td>5108.000000</td>\n",
       "      <td>518.000000</td>\n",
       "      <td>4.000000</td>\n",
       "    </tr>\n",
       "    <tr>\n",
       "      <th>max</th>\n",
       "      <td>161918.000000</td>\n",
       "      <td>671.000000</td>\n",
       "      <td>5.000000</td>\n",
       "    </tr>\n",
       "  </tbody>\n",
       "</table>\n",
       "</div>"
      ],
      "text/plain": [
       "             movieId        userId        rating\n",
       "count   97243.000000  97243.000000  97243.000000\n",
       "mean    11889.784190    345.974271      3.549464\n",
       "std     25496.569681    195.124426      1.054909\n",
       "min         1.000000      1.000000      0.500000\n",
       "25%       994.000000    178.000000      3.000000\n",
       "50%      2353.000000    363.000000      4.000000\n",
       "75%      5108.000000    518.000000      4.000000\n",
       "max    161918.000000    671.000000      5.000000"
      ]
     },
     "execution_count": 197,
     "metadata": {},
     "output_type": "execute_result"
    }
   ],
   "source": [
    "df.describe()"
   ]
  },
  {
   "cell_type": "markdown",
   "id": "79baf786",
   "metadata": {},
   "source": [
    "- The minimum rating is 0.5 and max is 5. \n",
    "- We have total 671 users."
   ]
  },
  {
   "cell_type": "markdown",
   "id": "bfb4e508",
   "metadata": {},
   "source": [
    "Check if there are any missing values"
   ]
  },
  {
   "cell_type": "code",
   "execution_count": 198,
   "id": "60c96013",
   "metadata": {},
   "outputs": [
    {
     "data": {
      "text/plain": [
       "movieId    0\n",
       "title      0\n",
       "userId     0\n",
       "rating     0\n",
       "dtype: int64"
      ]
     },
     "execution_count": 198,
     "metadata": {},
     "output_type": "execute_result"
    }
   ],
   "source": [
    "df.isnull().sum()"
   ]
  },
  {
   "cell_type": "markdown",
   "id": "bbafd364",
   "metadata": {},
   "source": [
    "Great we do not have any null value"
   ]
  },
  {
   "cell_type": "markdown",
   "id": "5841e59b",
   "metadata": {},
   "source": [
    "Lets find how many distinct users and movies are included in the dataset"
   ]
  },
  {
   "cell_type": "code",
   "execution_count": 199,
   "id": "9db897a5",
   "metadata": {},
   "outputs": [
    {
     "data": {
      "text/plain": [
       "movieId    7063\n",
       "title      7062\n",
       "userId      671\n",
       "rating       10\n",
       "dtype: int64"
      ]
     },
     "execution_count": 199,
     "metadata": {},
     "output_type": "execute_result"
    }
   ],
   "source": [
    "# Calculate the number of unique values\n",
    "df.nunique()"
   ]
  },
  {
   "cell_type": "code",
   "execution_count": 200,
   "id": "ae2091c2",
   "metadata": {},
   "outputs": [
    {
     "data": {
      "text/plain": [
       "array([3. , 4. , 5. , 2. , 3.5, 1. , 2.5, 4.5, 1.5, 0.5])"
      ]
     },
     "execution_count": 200,
     "metadata": {},
     "output_type": "execute_result"
    }
   ],
   "source": [
    "df.rating.unique()"
   ]
  },
  {
   "cell_type": "markdown",
   "id": "aaae3e9b",
   "metadata": {},
   "source": [
    "# Exploratory Data Analysis"
   ]
  },
  {
   "cell_type": "markdown",
   "id": "41675227",
   "metadata": {},
   "source": [
    "Lets explore the dataset to find some insights about the data."
   ]
  },
  {
   "cell_type": "code",
   "execution_count": 201,
   "id": "a55bbe66",
   "metadata": {},
   "outputs": [
    {
     "data": {
      "text/plain": [
       "<AxesSubplot:>"
      ]
     },
     "execution_count": 201,
     "metadata": {},
     "output_type": "execute_result"
    },
    {
     "data": {
      "image/png": "[encoded data removed]",
      "text/plain": [
       "<Figure size 432x288 with 1 Axes>"
      ]
     },
     "metadata": {
      "needs_background": "light"
     },
     "output_type": "display_data"
    }
   ],
   "source": [
    "sns.barplot(x = df.columns, y = df.nunique(axis=0))"
   ]
  },
  {
   "cell_type": "markdown",
   "id": "9e9c1e86",
   "metadata": {},
   "source": [
    "There are close to 670 users and 7000 movies and 10 unique values of ratings."
   ]
  },
  {
   "cell_type": "markdown",
   "id": "18b0a33d",
   "metadata": {},
   "source": [
    "Lets perform some univariate analysis.\n",
    "\n",
    "Univariate analysis — the analysis of one feature at a time.\n",
    "This will help us fin answers for questions like \n",
    "1.\twhat are the movies with most reviews?\n",
    "2.\twho are the users that provide most reviews?\n",
    "3.\thow does the distribution looks like for ratings?"
   ]
  },
  {
   "cell_type": "markdown",
   "id": "e39a2de3",
   "metadata": {},
   "source": [
    "Calculate the number of times each movie occurs in the dataset.\n",
    "Print the titles of the top five most frequently seen movies."
   ]
  },
  {
   "cell_type": "code",
   "execution_count": 202,
   "id": "0102797d",
   "metadata": {},
   "outputs": [],
   "source": [
    "# Get the counts of occurrences of each movie title\n",
    "movie_popularity = df[\"title\"].value_counts()[:5]\n",
    "## Inspect the most common values\n",
    "#print(movie_popularity.head().index)"
   ]
  },
  {
   "cell_type": "code",
   "execution_count": 203,
   "id": "44d774ac",
   "metadata": {},
   "outputs": [
    {
     "name": "stdout",
     "output_type": "stream",
     "text": [
      "Forrest Gump (1994)                          341\n",
      "Pulp Fiction (1994)                          324\n",
      "Shawshank Redemption, The (1994)             311\n",
      "Silence of the Lambs, The (1991)             304\n",
      "Star Wars: Episode IV - A New Hope (1977)    291\n",
      "Name: title, dtype: int64\n"
     ]
    }
   ],
   "source": [
    "print(movie_popularity)"
   ]
  },
  {
   "cell_type": "markdown",
   "id": "f0a80fc3",
   "metadata": {},
   "source": [
    "Forrest Gump is the most viewed movie by far."
   ]
  },
  {
   "cell_type": "code",
   "execution_count": 204,
   "id": "0f77835f",
   "metadata": {},
   "outputs": [
    {
     "data": {
      "text/plain": [
       "356       341\n",
       "296       324\n",
       "318       311\n",
       "593       304\n",
       "260       291\n",
       "         ... \n",
       "69118       1\n",
       "5787        1\n",
       "68959       1\n",
       "5788        1\n",
       "161918      1\n",
       "Name: movieId, Length: 7063, dtype: int64"
      ]
     },
     "execution_count": 204,
     "metadata": {},
     "output_type": "execute_result"
    }
   ],
   "source": [
    "df['movieId'].value_counts()"
   ]
  },
  {
   "cell_type": "code",
   "execution_count": 205,
   "id": "8f29ca32",
   "metadata": {},
   "outputs": [
    {
     "data": {
      "text/plain": [
       "<AxesSubplot:>"
      ]
     },
     "execution_count": 205,
     "metadata": {},
     "output_type": "execute_result"
    },
    {
     "data": {
      "image/png": "[encoded data removed]",
      "text/plain": [
       "<Figure size 1152x288 with 1 Axes>"
      ]
     },
     "metadata": {
      "needs_background": "light"
     },
     "output_type": "display_data"
    }
   ],
   "source": [
    "from matplotlib import cm\n",
    "color = cm.inferno_r(np.linspace(.4, .8, 30))\n",
    "color\n",
    "\n",
    "# univariate analysis\n",
    "plt.figure(1, figsize = (16,4))\n",
    "df['movieId'].value_counts()[:50].plot(kind = 'bar', stacked=True, color=color) #take top 50 movies\n"
   ]
  },
  {
   "cell_type": "markdown",
   "id": "49aeedd0",
   "metadata": {},
   "source": [
    "Here we can see that ratings are not evenly distributed among movies.\n",
    "The movie with id 356[Forrest Gump] is the most rated movie, however it does not have more that 341 ratings."
   ]
  },
  {
   "cell_type": "markdown",
   "id": "af9574f6",
   "metadata": {},
   "source": [
    "Lets check userid column."
   ]
  },
  {
   "cell_type": "code",
   "execution_count": 206,
   "id": "0befac0a",
   "metadata": {},
   "outputs": [
    {
     "data": {
      "text/plain": [
       "547    1953\n",
       "564    1763\n",
       "624    1734\n",
       "15     1640\n",
       "73     1529\n",
       "       ... \n",
       "249      20\n",
       "498      20\n",
       "448      20\n",
       "444      19\n",
       "485      19\n",
       "Name: userId, Length: 671, dtype: int64"
      ]
     },
     "execution_count": 206,
     "metadata": {},
     "output_type": "execute_result"
    }
   ],
   "source": [
    "df['userId'].value_counts()"
   ]
  },
  {
   "cell_type": "code",
   "execution_count": 207,
   "id": "93e5ebc5",
   "metadata": {},
   "outputs": [
    {
     "data": {
      "text/plain": [
       "<AxesSubplot:>"
      ]
     },
     "execution_count": 207,
     "metadata": {},
     "output_type": "execute_result"
    },
    {
     "data": {
      "image/png": "[encoded data removed]",
      "text/plain": [
       "<Figure size 1152x288 with 1 Axes>"
      ]
     },
     "metadata": {
      "needs_background": "light"
     },
     "output_type": "display_data"
    }
   ],
   "source": [
    "color = cm.inferno_r(np.linspace(.2, .3, 20))\n",
    "color\n",
    "plt.figure(2, figsize = (16,4))\n",
    "df['userId'].value_counts()[:50].plot(kind = 'bar', color=color) #take top 50 users"
   ]
  },
  {
   "cell_type": "markdown",
   "id": "ed21fb1c",
   "metadata": {},
   "source": [
    "users have provided 1953 ratings."
   ]
  },
  {
   "cell_type": "markdown",
   "id": "178c8dd7",
   "metadata": {},
   "source": [
    "Display a histogram of the values in the Rating column"
   ]
  },
  {
   "cell_type": "code",
   "execution_count": 208,
   "id": "3d1030f8",
   "metadata": {},
   "outputs": [
    {
     "data": {
      "text/plain": [
       "<AxesSubplot:ylabel='Frequency'>"
      ]
     },
     "execution_count": 208,
     "metadata": {},
     "output_type": "execute_result"
    },
    {
     "data": {
      "image/png": "[encoded data removed]",
      "text/plain": [
       "<Figure size 576x288 with 1 Axes>"
      ]
     },
     "metadata": {
      "needs_background": "light"
     },
     "output_type": "display_data"
    }
   ],
   "source": [
    "plt.figure(3, figsize = (8,4))\n",
    "df['rating'].plot(kind = 'hist')"
   ]
  },
  {
   "cell_type": "markdown",
   "id": "6f09f09a",
   "metadata": {},
   "source": [
    "The graph shows, most of the users have given rating of 4."
   ]
  },
  {
   "cell_type": "code",
   "execution_count": 247,
   "id": "e8a208f5",
   "metadata": {},
   "outputs": [
    {
     "data": {
      "text/html": [
       "<div>\n",
       "<style scoped>\n",
       "    .dataframe tbody tr th:only-of-type {\n",
       "        vertical-align: middle;\n",
       "    }\n",
       "\n",
       "    .dataframe tbody tr th {\n",
       "        vertical-align: top;\n",
       "    }\n",
       "\n",
       "    .dataframe thead th {\n",
       "        text-align: right;\n",
       "    }\n",
       "</style>\n",
       "<table border=\"1\" class=\"dataframe\">\n",
       "  <thead>\n",
       "    <tr style=\"text-align: right;\">\n",
       "      <th></th>\n",
       "      <th>rating</th>\n",
       "    </tr>\n",
       "    <tr>\n",
       "      <th>title</th>\n",
       "      <th></th>\n",
       "    </tr>\n",
       "  </thead>\n",
       "  <tbody>\n",
       "    <tr>\n",
       "      <th>'Hellboy': The Seeds of Creation (2004)</th>\n",
       "      <td>2.000000</td>\n",
       "    </tr>\n",
       "    <tr>\n",
       "      <th>'Round Midnight (1986)</th>\n",
       "      <td>2.250000</td>\n",
       "    </tr>\n",
       "    <tr>\n",
       "      <th>'Salem's Lot (2004)</th>\n",
       "      <td>3.500000</td>\n",
       "    </tr>\n",
       "    <tr>\n",
       "      <th>'Til There Was You (1997)</th>\n",
       "      <td>2.625000</td>\n",
       "    </tr>\n",
       "    <tr>\n",
       "      <th>'burbs, The (1989)</th>\n",
       "      <td>3.052632</td>\n",
       "    </tr>\n",
       "  </tbody>\n",
       "</table>\n",
       "</div>"
      ],
      "text/plain": [
       "                                           rating\n",
       "title                                            \n",
       "'Hellboy': The Seeds of Creation (2004)  2.000000\n",
       "'Round Midnight (1986)                   2.250000\n",
       "'Salem's Lot (2004)                      3.500000\n",
       "'Til There Was You (1997)                2.625000\n",
       "'burbs, The (1989)                       3.052632"
      ]
     },
     "execution_count": 247,
     "metadata": {},
     "output_type": "execute_result"
    }
   ],
   "source": [
    "rating_df = pd.DataFrame(df.groupby('title')['rating'].mean())\n",
    "rating_df.head()"
   ]
  },
  {
   "cell_type": "code",
   "execution_count": 250,
   "id": "d07dfbbd",
   "metadata": {},
   "outputs": [
    {
     "data": {
      "text/html": [
       "<div>\n",
       "<style scoped>\n",
       "    .dataframe tbody tr th:only-of-type {\n",
       "        vertical-align: middle;\n",
       "    }\n",
       "\n",
       "    .dataframe tbody tr th {\n",
       "        vertical-align: top;\n",
       "    }\n",
       "\n",
       "    .dataframe thead th {\n",
       "        text-align: right;\n",
       "    }\n",
       "</style>\n",
       "<table border=\"1\" class=\"dataframe\">\n",
       "  <thead>\n",
       "    <tr style=\"text-align: right;\">\n",
       "      <th></th>\n",
       "      <th>rating</th>\n",
       "      <th>number_of_ratings</th>\n",
       "    </tr>\n",
       "    <tr>\n",
       "      <th>title</th>\n",
       "      <th></th>\n",
       "      <th></th>\n",
       "    </tr>\n",
       "  </thead>\n",
       "  <tbody>\n",
       "    <tr>\n",
       "      <th>'Hellboy': The Seeds of Creation (2004)</th>\n",
       "      <td>2.000000</td>\n",
       "      <td>1</td>\n",
       "    </tr>\n",
       "    <tr>\n",
       "      <th>'Round Midnight (1986)</th>\n",
       "      <td>2.250000</td>\n",
       "      <td>2</td>\n",
       "    </tr>\n",
       "    <tr>\n",
       "      <th>'Salem's Lot (2004)</th>\n",
       "      <td>3.500000</td>\n",
       "      <td>1</td>\n",
       "    </tr>\n",
       "    <tr>\n",
       "      <th>'Til There Was You (1997)</th>\n",
       "      <td>2.625000</td>\n",
       "      <td>4</td>\n",
       "    </tr>\n",
       "    <tr>\n",
       "      <th>'burbs, The (1989)</th>\n",
       "      <td>3.052632</td>\n",
       "      <td>19</td>\n",
       "    </tr>\n",
       "  </tbody>\n",
       "</table>\n",
       "</div>"
      ],
      "text/plain": [
       "                                           rating  number_of_ratings\n",
       "title                                                               \n",
       "'Hellboy': The Seeds of Creation (2004)  2.000000                  1\n",
       "'Round Midnight (1986)                   2.250000                  2\n",
       "'Salem's Lot (2004)                      3.500000                  1\n",
       "'Til There Was You (1997)                2.625000                  4\n",
       "'burbs, The (1989)                       3.052632                 19"
      ]
     },
     "execution_count": 250,
     "metadata": {},
     "output_type": "execute_result"
    }
   ],
   "source": [
    "rating_df['number_of_ratings'] = df.groupby('title')['rating'].count()\n",
    "rating_df.head()"
   ]
  },
  {
   "cell_type": "code",
   "execution_count": 251,
   "id": "5cc83b1c",
   "metadata": {},
   "outputs": [
    {
     "data": {
      "image/png": "[encoded data removed]",
      "text/plain": [
       "<Figure size 360x360 with 1 Axes>"
      ]
     },
     "metadata": {
      "needs_background": "light"
     },
     "output_type": "display_data"
    }
   ],
   "source": [
    "import seaborn as sns\n",
    "sns.relplot(x=\"rating\", y=\"number_of_ratings\", data=rating_df);"
   ]
  },
  {
   "cell_type": "markdown",
   "id": "1490b174",
   "metadata": {},
   "source": [
    "Above plot shows many movies having 0 ratings. Less number of users have rated perticular movies. Most of the users have given rating between 3 to 4."
   ]
  },
  {
   "cell_type": "markdown",
   "id": "addabf43",
   "metadata": {},
   "source": [
    "What is the distribution of ratings given to each movie?"
   ]
  },
  {
   "cell_type": "code",
   "execution_count": 252,
   "id": "ef4da74c",
   "metadata": {},
   "outputs": [
    {
     "data": {
      "text/plain": [
       "<AxesSubplot:>"
      ]
     },
     "execution_count": 252,
     "metadata": {},
     "output_type": "execute_result"
    },
    {
     "data": {
      "image/png": "[encoded data removed]",
      "text/plain": [
       "<Figure size 432x288 with 1 Axes>"
      ]
     },
     "metadata": {
      "needs_background": "light"
     },
     "output_type": "display_data"
    }
   ],
   "source": [
    "ratings_per_user = df.groupby('userId')['movieId'].count() \n",
    "ratings_per_user.hist()"
   ]
  },
  {
   "cell_type": "markdown",
   "id": "cc57edca",
   "metadata": {},
   "source": [
    "The histogram shows that most users (roughly 560 out of 671 –80%) have less than 250 ratings."
   ]
  },
  {
   "cell_type": "markdown",
   "id": "13d1238a",
   "metadata": {},
   "source": [
    "What is the distribution of users who provide ratings?"
   ]
  },
  {
   "cell_type": "code",
   "execution_count": 253,
   "id": "23fa9acc",
   "metadata": {},
   "outputs": [
    {
     "data": {
      "text/plain": [
       "<AxesSubplot:>"
      ]
     },
     "execution_count": 253,
     "metadata": {},
     "output_type": "execute_result"
    },
    {
     "data": {
      "image/png": "[encoded data removed]",
      "text/plain": [
       "<Figure size 432x288 with 1 Axes>"
      ]
     },
     "metadata": {
      "needs_background": "light"
     },
     "output_type": "display_data"
    }
   ],
   "source": [
    "ratings_per_movie = df.groupby('movieId')['userId'].count() \n",
    "ratings_per_movie.hist()"
   ]
  },
  {
   "cell_type": "markdown",
   "id": "6a32350d",
   "metadata": {},
   "source": [
    "The histogram shows that most movies (roughly 6500 out of 7063 –90%) have less than 30 ratings."
   ]
  },
  {
   "cell_type": "markdown",
   "id": "3473866b",
   "metadata": {},
   "source": [
    "### Non-Personalized Suggestions"
   ]
  },
  {
   "cell_type": "markdown",
   "id": "0d97a807",
   "metadata": {},
   "source": [
    "Just because a movie has been watched by a lot of people doesn't necessarily mean viewers enjoyed it. To understand how a viewer actually felt about a movie, more explicit data is useful. Lets find the average rating of each movie in the dataset, and then find the movie with the highest average rating."
   ]
  },
  {
   "cell_type": "code",
   "execution_count": 254,
   "id": "ddc5a72d",
   "metadata": {},
   "outputs": [
    {
     "name": "stdout",
     "output_type": "stream",
     "text": [
      "                                                    rating\n",
      "title                                                     \n",
      "Family Stone, The (2005)                               5.0\n",
      "Kidnapping, Caucasian Style (Kavkazskaya plenni...     5.0\n",
      "Female Perversions (1996)                              5.0\n",
      "Grass Is Greener, The (1960)                           5.0\n",
      "Ben X (2007)                                           5.0\n"
     ]
    }
   ],
   "source": [
    "# Find the mean of the ratings given to each title\n",
    "avg_rating_df = df[[\"title\", \"rating\"]].groupby('title').mean()\n",
    "\n",
    "# Order the entries by highest average rating to lowest\n",
    "sorted_average_ratings = avg_rating_df.sort_values(by='rating', ascending=False)\n",
    "\n",
    "# Inspect the top movies\n",
    "print(sorted_average_ratings.head())"
   ]
  },
  {
   "cell_type": "markdown",
   "id": "d205c118",
   "metadata": {},
   "source": [
    "The highest ranked movie is shown as Family Stone, The (2005). which does not seem to be heard of as popular movie. This seems to be because of very infrequently-viewed movies are skewing the results. "
   ]
  },
  {
   "cell_type": "code",
   "execution_count": 255,
   "id": "4f70518c",
   "metadata": {},
   "outputs": [
    {
     "data": {
      "text/html": [
       "<div>\n",
       "<style scoped>\n",
       "    .dataframe tbody tr th:only-of-type {\n",
       "        vertical-align: middle;\n",
       "    }\n",
       "\n",
       "    .dataframe tbody tr th {\n",
       "        vertical-align: top;\n",
       "    }\n",
       "\n",
       "    .dataframe thead th {\n",
       "        text-align: right;\n",
       "    }\n",
       "</style>\n",
       "<table border=\"1\" class=\"dataframe\">\n",
       "  <thead>\n",
       "    <tr style=\"text-align: right;\">\n",
       "      <th></th>\n",
       "      <th>movieId</th>\n",
       "      <th>title</th>\n",
       "      <th>userId</th>\n",
       "      <th>rating</th>\n",
       "    </tr>\n",
       "  </thead>\n",
       "  <tbody>\n",
       "    <tr>\n",
       "      <th>85903</th>\n",
       "      <td>41573</td>\n",
       "      <td>Family Stone, The (2005)</td>\n",
       "      <td>382</td>\n",
       "      <td>5.0</td>\n",
       "    </tr>\n",
       "  </tbody>\n",
       "</table>\n",
       "</div>"
      ],
      "text/plain": [
       "       movieId                     title  userId  rating\n",
       "85903    41573  Family Stone, The (2005)     382     5.0"
      ]
     },
     "execution_count": 255,
     "metadata": {},
     "output_type": "execute_result"
    }
   ],
   "source": [
    "df[df['title'] == 'Family Stone, The (2005)']"
   ]
  },
  {
   "cell_type": "markdown",
   "id": "e69aeba9",
   "metadata": {},
   "source": [
    "As we can see, above movie is highly ranked but only one user has rated this movie."
   ]
  },
  {
   "cell_type": "markdown",
   "id": "9ec55f3f",
   "metadata": {},
   "source": [
    "Let's find the average rating only for movies that have been reviewed more than 50 times."
   ]
  },
  {
   "cell_type": "code",
   "execution_count": 256,
   "id": "97cff76c",
   "metadata": {},
   "outputs": [
    {
     "name": "stdout",
     "output_type": "stream",
     "text": [
      "Forrest Gump (1994)                                                                                                          341\n",
      "Pulp Fiction (1994)                                                                                                          324\n",
      "Shawshank Redemption, The (1994)                                                                                             311\n",
      "Silence of the Lambs, The (1991)                                                                                             304\n",
      "Star Wars: Episode IV - A New Hope (1977)                                                                                    291\n",
      "                                                                                                                            ... \n",
      "In the Electric Mist (2009)                                                                                                    1\n",
      "Truth About Charlie, The (2002)                                                                                                1\n",
      "Fullmetal Alchemist the Movie: Conqueror of Shamballa (Gekijô-ban hagane no renkinjutsushi: Shanbara wo yuku mono) (2005)      1\n",
      "All or Nothing (2002)                                                                                                          1\n",
      "Sharknado 4: The 4th Awakens (2016)                                                                                            1\n",
      "Name: title, Length: 7062, dtype: int64\n"
     ]
    }
   ],
   "source": [
    "# Create a list of only the frequently watched movies\n",
    "movie_popularity = df[\"title\"].value_counts()\n",
    "print(movie_popularity)\n",
    "popular_movies = movie_popularity[movie_popularity > 50].index"
   ]
  },
  {
   "cell_type": "code",
   "execution_count": 257,
   "id": "f28bf516",
   "metadata": {},
   "outputs": [
    {
     "name": "stdout",
     "output_type": "stream",
     "text": [
      "       movieId             title  userId  rating\n",
      "0            1  Toy Story (1995)       7     3.0\n",
      "1            1  Toy Story (1995)       9     4.0\n",
      "2            1  Toy Story (1995)      13     5.0\n",
      "3            1  Toy Story (1995)      15     2.0\n",
      "4            1  Toy Story (1995)      19     3.0\n",
      "...        ...               ...     ...     ...\n",
      "92624    79132  Inception (2010)     628     3.5\n",
      "92625    79132  Inception (2010)     630     3.5\n",
      "92626    79132  Inception (2010)     655     2.0\n",
      "92627    79132  Inception (2010)     660     4.5\n",
      "92628    79132  Inception (2010)     664     5.0\n",
      "\n",
      "[42633 rows x 4 columns]\n"
     ]
    }
   ],
   "source": [
    "# Use this popular_movies list to filter the original DataFrame\n",
    "popular_movies_rankings = df[df[\"title\"].isin(popular_movies)]\n",
    "\n",
    "# Inspect the movies watched over 50 times\n",
    "print(popular_movies_rankings)"
   ]
  },
  {
   "cell_type": "code",
   "execution_count": 258,
   "id": "c77fc9fb",
   "metadata": {},
   "outputs": [
    {
     "name": "stdout",
     "output_type": "stream",
     "text": [
      "                                    rating\n",
      "title                                     \n",
      "Godfather, The (1972)             4.487500\n",
      "Shawshank Redemption, The (1994)  4.487138\n",
      "Maltese Falcon, The (1941)        4.387097\n",
      "Godfather: Part II, The (1974)    4.385185\n",
      "Usual Suspects, The (1995)        4.370647\n"
     ]
    }
   ],
   "source": [
    "# Find the average rating given to these frequently watched films\n",
    "popular_movies_average_rankings = popular_movies_rankings[[\"title\", \"rating\"]].groupby('title').mean()\n",
    "print(popular_movies_average_rankings.sort_values(by=\"rating\", ascending=False).head())"
   ]
  },
  {
   "cell_type": "markdown",
   "id": "4c517ed2",
   "metadata": {},
   "source": [
    "We can now see the non-personalized recommendations that combine both the ratings of an item and how frequently it has been interacted with."
   ]
  },
  {
   "cell_type": "markdown",
   "id": "541b2ef3",
   "metadata": {},
   "source": [
    "# Collaborative Types of Filtering"
   ]
  },
  {
   "cell_type": "markdown",
   "id": "6949638d",
   "metadata": {},
   "source": [
    "## Memory Based Filtering "
   ]
  },
  {
   "cell_type": "markdown",
   "id": "f3c114db",
   "metadata": {},
   "source": [
    "Memory-based collaborative filtering uses all the data in the database to generate a prediction"
   ]
  },
  {
   "cell_type": "markdown",
   "id": "1e92c7dc",
   "metadata": {},
   "source": [
    "There are two types of Memory Based Collaborative Filtering :\n",
    "\n",
    "- User-User-based similarity/Collaborative Filtering\n",
    "- Item-Item-based similarity/Collaborative Filtering\n",
    "\n",
    "The most popular Collaborative Filtering is item-item-based Collaborative Filtering."
   ]
  },
  {
   "cell_type": "markdown",
   "id": "4bfe7b8b",
   "metadata": {},
   "source": [
    "###### User-User-Based Collaborative Filtering"
   ]
  },
  {
   "cell_type": "markdown",
   "id": "d96e2142",
   "metadata": {},
   "source": [
    "In this type of filtering we find the users that have the most similar preferences to the user we are making recommendations for and based on that group's preferences, make suggestions.\n",
    "It works around the premise that person A has similar tastes to person B and C.and both person B and C also like a certain item,then it is likely that person A would also like that new item.\n",
    "\n",
    "However, there can be a small problem with a user-user similarity base system, user interests change over time, and then similarity values also change, and this is impacted on the recommended system."
   ]
  },
  {
   "cell_type": "markdown",
   "id": "c4e24b67",
   "metadata": {},
   "source": [
    "###### Item-Item-based Collaborative Filtering"
   ]
  },
  {
   "cell_type": "markdown",
   "id": "2ceb8889",
   "metadata": {},
   "source": [
    "It assumes if Item A and B receive similar reviews, either positive or negative,then however other people feel about A,they should feel the same way about B."
   ]
  },
  {
   "cell_type": "code",
   "execution_count": 259,
   "id": "1c188649",
   "metadata": {},
   "outputs": [
    {
     "data": {
      "text/html": [
       "<div>\n",
       "<style scoped>\n",
       "    .dataframe tbody tr th:only-of-type {\n",
       "        vertical-align: middle;\n",
       "    }\n",
       "\n",
       "    .dataframe tbody tr th {\n",
       "        vertical-align: top;\n",
       "    }\n",
       "\n",
       "    .dataframe thead th {\n",
       "        text-align: right;\n",
       "    }\n",
       "</style>\n",
       "<table border=\"1\" class=\"dataframe\">\n",
       "  <thead>\n",
       "    <tr style=\"text-align: right;\">\n",
       "      <th></th>\n",
       "      <th>movieId</th>\n",
       "      <th>title</th>\n",
       "      <th>userId</th>\n",
       "      <th>rating</th>\n",
       "    </tr>\n",
       "  </thead>\n",
       "  <tbody>\n",
       "    <tr>\n",
       "      <th>0</th>\n",
       "      <td>1</td>\n",
       "      <td>Toy Story (1995)</td>\n",
       "      <td>7</td>\n",
       "      <td>3.0</td>\n",
       "    </tr>\n",
       "    <tr>\n",
       "      <th>1</th>\n",
       "      <td>1</td>\n",
       "      <td>Toy Story (1995)</td>\n",
       "      <td>9</td>\n",
       "      <td>4.0</td>\n",
       "    </tr>\n",
       "    <tr>\n",
       "      <th>2</th>\n",
       "      <td>1</td>\n",
       "      <td>Toy Story (1995)</td>\n",
       "      <td>13</td>\n",
       "      <td>5.0</td>\n",
       "    </tr>\n",
       "    <tr>\n",
       "      <th>3</th>\n",
       "      <td>1</td>\n",
       "      <td>Toy Story (1995)</td>\n",
       "      <td>15</td>\n",
       "      <td>2.0</td>\n",
       "    </tr>\n",
       "    <tr>\n",
       "      <th>4</th>\n",
       "      <td>1</td>\n",
       "      <td>Toy Story (1995)</td>\n",
       "      <td>19</td>\n",
       "      <td>3.0</td>\n",
       "    </tr>\n",
       "  </tbody>\n",
       "</table>\n",
       "</div>"
      ],
      "text/plain": [
       "   movieId             title  userId  rating\n",
       "0        1  Toy Story (1995)       7     3.0\n",
       "1        1  Toy Story (1995)       9     4.0\n",
       "2        1  Toy Story (1995)      13     5.0\n",
       "3        1  Toy Story (1995)      15     2.0\n",
       "4        1  Toy Story (1995)      19     3.0"
      ]
     },
     "execution_count": 259,
     "metadata": {},
     "output_type": "execute_result"
    }
   ],
   "source": [
    "df.head()"
   ]
  },
  {
   "cell_type": "markdown",
   "id": "c70fd370",
   "metadata": {},
   "source": [
    "we need to convert this data into matrix of users for machine to understand."
   ]
  },
  {
   "cell_type": "code",
   "execution_count": 260,
   "id": "80e85d9a",
   "metadata": {},
   "outputs": [
    {
     "data": {
      "text/html": [
       "<div>\n",
       "<style scoped>\n",
       "    .dataframe tbody tr th:only-of-type {\n",
       "        vertical-align: middle;\n",
       "    }\n",
       "\n",
       "    .dataframe tbody tr th {\n",
       "        vertical-align: top;\n",
       "    }\n",
       "\n",
       "    .dataframe thead th {\n",
       "        text-align: right;\n",
       "    }\n",
       "</style>\n",
       "<table border=\"1\" class=\"dataframe\">\n",
       "  <thead>\n",
       "    <tr style=\"text-align: right;\">\n",
       "      <th>title</th>\n",
       "      <th>'Hellboy': The Seeds of Creation (2004)</th>\n",
       "      <th>'Round Midnight (1986)</th>\n",
       "      <th>'Salem's Lot (2004)</th>\n",
       "      <th>'Til There Was You (1997)</th>\n",
       "      <th>'burbs, The (1989)</th>\n",
       "      <th>'night Mother (1986)</th>\n",
       "      <th>(500) Days of Summer (2009)</th>\n",
       "      <th>*batteries not included (1987)</th>\n",
       "      <th>...And Justice for All (1979)</th>\n",
       "      <th>1-900 (06) (1994)</th>\n",
       "      <th>...</th>\n",
       "      <th>Zoom (2006)</th>\n",
       "      <th>Zootopia (2016)</th>\n",
       "      <th>Zulu (1964)</th>\n",
       "      <th>Zulu (2013)</th>\n",
       "      <th>[REC] (2007)</th>\n",
       "      <th>eXistenZ (1999)</th>\n",
       "      <th>xXx (2002)</th>\n",
       "      <th>xXx: State of the Union (2005)</th>\n",
       "      <th>¡Three Amigos! (1986)</th>\n",
       "      <th>À nous la liberté (Freedom for Us) (1931)</th>\n",
       "    </tr>\n",
       "    <tr>\n",
       "      <th>userId</th>\n",
       "      <th></th>\n",
       "      <th></th>\n",
       "      <th></th>\n",
       "      <th></th>\n",
       "      <th></th>\n",
       "      <th></th>\n",
       "      <th></th>\n",
       "      <th></th>\n",
       "      <th></th>\n",
       "      <th></th>\n",
       "      <th></th>\n",
       "      <th></th>\n",
       "      <th></th>\n",
       "      <th></th>\n",
       "      <th></th>\n",
       "      <th></th>\n",
       "      <th></th>\n",
       "      <th></th>\n",
       "      <th></th>\n",
       "      <th></th>\n",
       "      <th></th>\n",
       "    </tr>\n",
       "  </thead>\n",
       "  <tbody>\n",
       "    <tr>\n",
       "      <th>1</th>\n",
       "      <td>NaN</td>\n",
       "      <td>NaN</td>\n",
       "      <td>NaN</td>\n",
       "      <td>NaN</td>\n",
       "      <td>NaN</td>\n",
       "      <td>NaN</td>\n",
       "      <td>NaN</td>\n",
       "      <td>NaN</td>\n",
       "      <td>NaN</td>\n",
       "      <td>NaN</td>\n",
       "      <td>...</td>\n",
       "      <td>NaN</td>\n",
       "      <td>NaN</td>\n",
       "      <td>NaN</td>\n",
       "      <td>NaN</td>\n",
       "      <td>NaN</td>\n",
       "      <td>NaN</td>\n",
       "      <td>NaN</td>\n",
       "      <td>NaN</td>\n",
       "      <td>NaN</td>\n",
       "      <td>NaN</td>\n",
       "    </tr>\n",
       "    <tr>\n",
       "      <th>2</th>\n",
       "      <td>NaN</td>\n",
       "      <td>NaN</td>\n",
       "      <td>NaN</td>\n",
       "      <td>NaN</td>\n",
       "      <td>NaN</td>\n",
       "      <td>NaN</td>\n",
       "      <td>NaN</td>\n",
       "      <td>NaN</td>\n",
       "      <td>NaN</td>\n",
       "      <td>NaN</td>\n",
       "      <td>...</td>\n",
       "      <td>NaN</td>\n",
       "      <td>NaN</td>\n",
       "      <td>NaN</td>\n",
       "      <td>NaN</td>\n",
       "      <td>NaN</td>\n",
       "      <td>NaN</td>\n",
       "      <td>NaN</td>\n",
       "      <td>NaN</td>\n",
       "      <td>NaN</td>\n",
       "      <td>NaN</td>\n",
       "    </tr>\n",
       "    <tr>\n",
       "      <th>3</th>\n",
       "      <td>NaN</td>\n",
       "      <td>NaN</td>\n",
       "      <td>NaN</td>\n",
       "      <td>NaN</td>\n",
       "      <td>NaN</td>\n",
       "      <td>NaN</td>\n",
       "      <td>NaN</td>\n",
       "      <td>NaN</td>\n",
       "      <td>NaN</td>\n",
       "      <td>NaN</td>\n",
       "      <td>...</td>\n",
       "      <td>NaN</td>\n",
       "      <td>NaN</td>\n",
       "      <td>NaN</td>\n",
       "      <td>NaN</td>\n",
       "      <td>NaN</td>\n",
       "      <td>NaN</td>\n",
       "      <td>NaN</td>\n",
       "      <td>NaN</td>\n",
       "      <td>NaN</td>\n",
       "      <td>NaN</td>\n",
       "    </tr>\n",
       "    <tr>\n",
       "      <th>4</th>\n",
       "      <td>NaN</td>\n",
       "      <td>NaN</td>\n",
       "      <td>NaN</td>\n",
       "      <td>NaN</td>\n",
       "      <td>NaN</td>\n",
       "      <td>NaN</td>\n",
       "      <td>NaN</td>\n",
       "      <td>NaN</td>\n",
       "      <td>NaN</td>\n",
       "      <td>NaN</td>\n",
       "      <td>...</td>\n",
       "      <td>NaN</td>\n",
       "      <td>NaN</td>\n",
       "      <td>NaN</td>\n",
       "      <td>NaN</td>\n",
       "      <td>NaN</td>\n",
       "      <td>NaN</td>\n",
       "      <td>NaN</td>\n",
       "      <td>NaN</td>\n",
       "      <td>NaN</td>\n",
       "      <td>NaN</td>\n",
       "    </tr>\n",
       "    <tr>\n",
       "      <th>5</th>\n",
       "      <td>NaN</td>\n",
       "      <td>NaN</td>\n",
       "      <td>NaN</td>\n",
       "      <td>NaN</td>\n",
       "      <td>NaN</td>\n",
       "      <td>NaN</td>\n",
       "      <td>NaN</td>\n",
       "      <td>NaN</td>\n",
       "      <td>NaN</td>\n",
       "      <td>NaN</td>\n",
       "      <td>...</td>\n",
       "      <td>NaN</td>\n",
       "      <td>NaN</td>\n",
       "      <td>NaN</td>\n",
       "      <td>NaN</td>\n",
       "      <td>NaN</td>\n",
       "      <td>NaN</td>\n",
       "      <td>NaN</td>\n",
       "      <td>NaN</td>\n",
       "      <td>NaN</td>\n",
       "      <td>NaN</td>\n",
       "    </tr>\n",
       "  </tbody>\n",
       "</table>\n",
       "<p>5 rows × 7062 columns</p>\n",
       "</div>"
      ],
      "text/plain": [
       "title   'Hellboy': The Seeds of Creation (2004)  'Round Midnight (1986)  \\\n",
       "userId                                                                    \n",
       "1                                           NaN                     NaN   \n",
       "2                                           NaN                     NaN   \n",
       "3                                           NaN                     NaN   \n",
       "4                                           NaN                     NaN   \n",
       "5                                           NaN                     NaN   \n",
       "\n",
       "title   'Salem's Lot (2004)  'Til There Was You (1997)  'burbs, The (1989)  \\\n",
       "userId                                                                       \n",
       "1                       NaN                        NaN                 NaN   \n",
       "2                       NaN                        NaN                 NaN   \n",
       "3                       NaN                        NaN                 NaN   \n",
       "4                       NaN                        NaN                 NaN   \n",
       "5                       NaN                        NaN                 NaN   \n",
       "\n",
       "title   'night Mother (1986)  (500) Days of Summer (2009)  \\\n",
       "userId                                                      \n",
       "1                        NaN                          NaN   \n",
       "2                        NaN                          NaN   \n",
       "3                        NaN                          NaN   \n",
       "4                        NaN                          NaN   \n",
       "5                        NaN                          NaN   \n",
       "\n",
       "title   *batteries not included (1987)  ...And Justice for All (1979)  \\\n",
       "userId                                                                  \n",
       "1                                  NaN                            NaN   \n",
       "2                                  NaN                            NaN   \n",
       "3                                  NaN                            NaN   \n",
       "4                                  NaN                            NaN   \n",
       "5                                  NaN                            NaN   \n",
       "\n",
       "title   1-900 (06) (1994)  ...  Zoom (2006)  Zootopia (2016)  Zulu (1964)  \\\n",
       "userId                     ...                                              \n",
       "1                     NaN  ...          NaN              NaN          NaN   \n",
       "2                     NaN  ...          NaN              NaN          NaN   \n",
       "3                     NaN  ...          NaN              NaN          NaN   \n",
       "4                     NaN  ...          NaN              NaN          NaN   \n",
       "5                     NaN  ...          NaN              NaN          NaN   \n",
       "\n",
       "title   Zulu (2013)  [REC] (2007)  eXistenZ (1999)  xXx (2002)  \\\n",
       "userId                                                           \n",
       "1               NaN           NaN              NaN         NaN   \n",
       "2               NaN           NaN              NaN         NaN   \n",
       "3               NaN           NaN              NaN         NaN   \n",
       "4               NaN           NaN              NaN         NaN   \n",
       "5               NaN           NaN              NaN         NaN   \n",
       "\n",
       "title   xXx: State of the Union (2005)  ¡Three Amigos! (1986)  \\\n",
       "userId                                                          \n",
       "1                                  NaN                    NaN   \n",
       "2                                  NaN                    NaN   \n",
       "3                                  NaN                    NaN   \n",
       "4                                  NaN                    NaN   \n",
       "5                                  NaN                    NaN   \n",
       "\n",
       "title   À nous la liberté (Freedom for Us) (1931)  \n",
       "userId                                             \n",
       "1                                             NaN  \n",
       "2                                             NaN  \n",
       "3                                             NaN  \n",
       "4                                             NaN  \n",
       "5                                             NaN  \n",
       "\n",
       "[5 rows x 7062 columns]"
      ]
     },
     "execution_count": 260,
     "metadata": {},
     "output_type": "execute_result"
    }
   ],
   "source": [
    "# Transform the table\n",
    "user_ratings_pivot = df.pivot_table(index=['userId'], columns=['title'], values='rating')\n",
    "user_ratings_pivot.head()"
   ]
  },
  {
   "cell_type": "markdown",
   "id": "b8d2f041",
   "metadata": {},
   "source": [
    "As we see here , there are many NaN values. This is expected as a user will rarely rate every movie. and its rare that every movie is rated by every user. This is called as data sparsity. We need to handle this missing values either by replacing them or dropping them . Dropping is not an option as the data this sparse, we will end up losing all the data.\n",
    "We can not replace missing values with 0 as it can create issues with recommendation engines. As 0 imply that the user hated/greatly disliked the movie which we can not say for sure.\n",
    "\n",
    "One alternative is to center each user's ratings around 0 by deducting the row average and then fill in the missing values with 0. This means the missing data is replaced with neutral scores. We will fill in missing data with information that should not bias the data that we have."
   ]
  },
  {
   "cell_type": "code",
   "execution_count": 261,
   "id": "ce8c9aa8",
   "metadata": {},
   "outputs": [],
   "source": [
    "# Get the average rating for each user \n",
    "avg_ratings = user_ratings_pivot.mean(axis=1)\n",
    "# Center each users ratings around 0\n",
    "user_ratings_table_centered = user_ratings_pivot.sub(avg_ratings, axis=0)\n",
    "# Fill in the missing data with 0s\n",
    "user_ratings_table_normed = user_ratings_table_centered.fillna(0)"
   ]
  },
  {
   "cell_type": "code",
   "execution_count": 262,
   "id": "83c55367",
   "metadata": {},
   "outputs": [
    {
     "data": {
      "text/html": [
       "<div>\n",
       "<style scoped>\n",
       "    .dataframe tbody tr th:only-of-type {\n",
       "        vertical-align: middle;\n",
       "    }\n",
       "\n",
       "    .dataframe tbody tr th {\n",
       "        vertical-align: top;\n",
       "    }\n",
       "\n",
       "    .dataframe thead th {\n",
       "        text-align: right;\n",
       "    }\n",
       "</style>\n",
       "<table border=\"1\" class=\"dataframe\">\n",
       "  <thead>\n",
       "    <tr style=\"text-align: right;\">\n",
       "      <th>title</th>\n",
       "      <th>'Hellboy': The Seeds of Creation (2004)</th>\n",
       "      <th>'Round Midnight (1986)</th>\n",
       "      <th>'Salem's Lot (2004)</th>\n",
       "      <th>'Til There Was You (1997)</th>\n",
       "      <th>'burbs, The (1989)</th>\n",
       "      <th>'night Mother (1986)</th>\n",
       "      <th>(500) Days of Summer (2009)</th>\n",
       "      <th>*batteries not included (1987)</th>\n",
       "      <th>...And Justice for All (1979)</th>\n",
       "      <th>1-900 (06) (1994)</th>\n",
       "      <th>...</th>\n",
       "      <th>Zoom (2006)</th>\n",
       "      <th>Zootopia (2016)</th>\n",
       "      <th>Zulu (1964)</th>\n",
       "      <th>Zulu (2013)</th>\n",
       "      <th>[REC] (2007)</th>\n",
       "      <th>eXistenZ (1999)</th>\n",
       "      <th>xXx (2002)</th>\n",
       "      <th>xXx: State of the Union (2005)</th>\n",
       "      <th>¡Three Amigos! (1986)</th>\n",
       "      <th>À nous la liberté (Freedom for Us) (1931)</th>\n",
       "    </tr>\n",
       "    <tr>\n",
       "      <th>userId</th>\n",
       "      <th></th>\n",
       "      <th></th>\n",
       "      <th></th>\n",
       "      <th></th>\n",
       "      <th></th>\n",
       "      <th></th>\n",
       "      <th></th>\n",
       "      <th></th>\n",
       "      <th></th>\n",
       "      <th></th>\n",
       "      <th></th>\n",
       "      <th></th>\n",
       "      <th></th>\n",
       "      <th></th>\n",
       "      <th></th>\n",
       "      <th></th>\n",
       "      <th></th>\n",
       "      <th></th>\n",
       "      <th></th>\n",
       "      <th></th>\n",
       "      <th></th>\n",
       "    </tr>\n",
       "  </thead>\n",
       "  <tbody>\n",
       "    <tr>\n",
       "      <th>1</th>\n",
       "      <td>0.0</td>\n",
       "      <td>0.0</td>\n",
       "      <td>0.0</td>\n",
       "      <td>0.0</td>\n",
       "      <td>0.0</td>\n",
       "      <td>0.0</td>\n",
       "      <td>0.0</td>\n",
       "      <td>0.0</td>\n",
       "      <td>0.0</td>\n",
       "      <td>0.0</td>\n",
       "      <td>...</td>\n",
       "      <td>0.0</td>\n",
       "      <td>0.0</td>\n",
       "      <td>0.0</td>\n",
       "      <td>0.0</td>\n",
       "      <td>0.0</td>\n",
       "      <td>0.0</td>\n",
       "      <td>0.0</td>\n",
       "      <td>0.0</td>\n",
       "      <td>0.0</td>\n",
       "      <td>0.0</td>\n",
       "    </tr>\n",
       "    <tr>\n",
       "      <th>2</th>\n",
       "      <td>0.0</td>\n",
       "      <td>0.0</td>\n",
       "      <td>0.0</td>\n",
       "      <td>0.0</td>\n",
       "      <td>0.0</td>\n",
       "      <td>0.0</td>\n",
       "      <td>0.0</td>\n",
       "      <td>0.0</td>\n",
       "      <td>0.0</td>\n",
       "      <td>0.0</td>\n",
       "      <td>...</td>\n",
       "      <td>0.0</td>\n",
       "      <td>0.0</td>\n",
       "      <td>0.0</td>\n",
       "      <td>0.0</td>\n",
       "      <td>0.0</td>\n",
       "      <td>0.0</td>\n",
       "      <td>0.0</td>\n",
       "      <td>0.0</td>\n",
       "      <td>0.0</td>\n",
       "      <td>0.0</td>\n",
       "    </tr>\n",
       "    <tr>\n",
       "      <th>3</th>\n",
       "      <td>0.0</td>\n",
       "      <td>0.0</td>\n",
       "      <td>0.0</td>\n",
       "      <td>0.0</td>\n",
       "      <td>0.0</td>\n",
       "      <td>0.0</td>\n",
       "      <td>0.0</td>\n",
       "      <td>0.0</td>\n",
       "      <td>0.0</td>\n",
       "      <td>0.0</td>\n",
       "      <td>...</td>\n",
       "      <td>0.0</td>\n",
       "      <td>0.0</td>\n",
       "      <td>0.0</td>\n",
       "      <td>0.0</td>\n",
       "      <td>0.0</td>\n",
       "      <td>0.0</td>\n",
       "      <td>0.0</td>\n",
       "      <td>0.0</td>\n",
       "      <td>0.0</td>\n",
       "      <td>0.0</td>\n",
       "    </tr>\n",
       "    <tr>\n",
       "      <th>4</th>\n",
       "      <td>0.0</td>\n",
       "      <td>0.0</td>\n",
       "      <td>0.0</td>\n",
       "      <td>0.0</td>\n",
       "      <td>0.0</td>\n",
       "      <td>0.0</td>\n",
       "      <td>0.0</td>\n",
       "      <td>0.0</td>\n",
       "      <td>0.0</td>\n",
       "      <td>0.0</td>\n",
       "      <td>...</td>\n",
       "      <td>0.0</td>\n",
       "      <td>0.0</td>\n",
       "      <td>0.0</td>\n",
       "      <td>0.0</td>\n",
       "      <td>0.0</td>\n",
       "      <td>0.0</td>\n",
       "      <td>0.0</td>\n",
       "      <td>0.0</td>\n",
       "      <td>0.0</td>\n",
       "      <td>0.0</td>\n",
       "    </tr>\n",
       "    <tr>\n",
       "      <th>5</th>\n",
       "      <td>0.0</td>\n",
       "      <td>0.0</td>\n",
       "      <td>0.0</td>\n",
       "      <td>0.0</td>\n",
       "      <td>0.0</td>\n",
       "      <td>0.0</td>\n",
       "      <td>0.0</td>\n",
       "      <td>0.0</td>\n",
       "      <td>0.0</td>\n",
       "      <td>0.0</td>\n",
       "      <td>...</td>\n",
       "      <td>0.0</td>\n",
       "      <td>0.0</td>\n",
       "      <td>0.0</td>\n",
       "      <td>0.0</td>\n",
       "      <td>0.0</td>\n",
       "      <td>0.0</td>\n",
       "      <td>0.0</td>\n",
       "      <td>0.0</td>\n",
       "      <td>0.0</td>\n",
       "      <td>0.0</td>\n",
       "    </tr>\n",
       "  </tbody>\n",
       "</table>\n",
       "<p>5 rows × 7062 columns</p>\n",
       "</div>"
      ],
      "text/plain": [
       "title   'Hellboy': The Seeds of Creation (2004)  'Round Midnight (1986)  \\\n",
       "userId                                                                    \n",
       "1                                           0.0                     0.0   \n",
       "2                                           0.0                     0.0   \n",
       "3                                           0.0                     0.0   \n",
       "4                                           0.0                     0.0   \n",
       "5                                           0.0                     0.0   \n",
       "\n",
       "title   'Salem's Lot (2004)  'Til There Was You (1997)  'burbs, The (1989)  \\\n",
       "userId                                                                       \n",
       "1                       0.0                        0.0                 0.0   \n",
       "2                       0.0                        0.0                 0.0   \n",
       "3                       0.0                        0.0                 0.0   \n",
       "4                       0.0                        0.0                 0.0   \n",
       "5                       0.0                        0.0                 0.0   \n",
       "\n",
       "title   'night Mother (1986)  (500) Days of Summer (2009)  \\\n",
       "userId                                                      \n",
       "1                        0.0                          0.0   \n",
       "2                        0.0                          0.0   \n",
       "3                        0.0                          0.0   \n",
       "4                        0.0                          0.0   \n",
       "5                        0.0                          0.0   \n",
       "\n",
       "title   *batteries not included (1987)  ...And Justice for All (1979)  \\\n",
       "userId                                                                  \n",
       "1                                  0.0                            0.0   \n",
       "2                                  0.0                            0.0   \n",
       "3                                  0.0                            0.0   \n",
       "4                                  0.0                            0.0   \n",
       "5                                  0.0                            0.0   \n",
       "\n",
       "title   1-900 (06) (1994)  ...  Zoom (2006)  Zootopia (2016)  Zulu (1964)  \\\n",
       "userId                     ...                                              \n",
       "1                     0.0  ...          0.0              0.0          0.0   \n",
       "2                     0.0  ...          0.0              0.0          0.0   \n",
       "3                     0.0  ...          0.0              0.0          0.0   \n",
       "4                     0.0  ...          0.0              0.0          0.0   \n",
       "5                     0.0  ...          0.0              0.0          0.0   \n",
       "\n",
       "title   Zulu (2013)  [REC] (2007)  eXistenZ (1999)  xXx (2002)  \\\n",
       "userId                                                           \n",
       "1               0.0           0.0              0.0         0.0   \n",
       "2               0.0           0.0              0.0         0.0   \n",
       "3               0.0           0.0              0.0         0.0   \n",
       "4               0.0           0.0              0.0         0.0   \n",
       "5               0.0           0.0              0.0         0.0   \n",
       "\n",
       "title   xXx: State of the Union (2005)  ¡Three Amigos! (1986)  \\\n",
       "userId                                                          \n",
       "1                                  0.0                    0.0   \n",
       "2                                  0.0                    0.0   \n",
       "3                                  0.0                    0.0   \n",
       "4                                  0.0                    0.0   \n",
       "5                                  0.0                    0.0   \n",
       "\n",
       "title   À nous la liberté (Freedom for Us) (1931)  \n",
       "userId                                             \n",
       "1                                             0.0  \n",
       "2                                             0.0  \n",
       "3                                             0.0  \n",
       "4                                             0.0  \n",
       "5                                             0.0  \n",
       "\n",
       "[5 rows x 7062 columns]"
      ]
     },
     "execution_count": 262,
     "metadata": {},
     "output_type": "execute_result"
    }
   ],
   "source": [
    "user_ratings_table_normed.head()"
   ]
  },
  {
   "cell_type": "code",
   "execution_count": 263,
   "id": "b5f156cb",
   "metadata": {},
   "outputs": [],
   "source": [
    "# To use traditional odelling with KNN for a small dataset\n",
    "#option 1\n",
    "# Get the average rating for each movie \n",
    "#avg_ratings = movie_ratings_pivot.mean(axis=1)\n",
    "# Center each movie's ratings around 0\n",
    "#movie_ratings_table_centered = movie_ratings_pivot.sub(avg_ratings, axis=0)\n",
    "# Fill in the missing data with 0s\n",
    "#movie_ratings_table_normed = movie_ratings_table_centered.fillna(0)\n",
    "# movie_ratings_table_normed.head()\n",
    "\n",
    "#Option 2 \n",
    "#movie_ratings_pivot.fillna(0,inplace=True)\n",
    "#movie_ratings_pivot.head()"
   ]
  },
  {
   "cell_type": "code",
   "execution_count": 264,
   "id": "a6251fc1",
   "metadata": {},
   "outputs": [],
   "source": [
    "# Transform the table - create User-item interaction matrix \n",
    "#movie_matrix_df = df.pivot_table(index=['userId'], columns=['title'], values='rating')\n",
    "#movie_matrix_df.head()"
   ]
  },
  {
   "cell_type": "markdown",
   "id": "78edb6ff",
   "metadata": {},
   "source": [
    "Making recommendation for movie 'Shawshank Redemption, The (1994)':\n",
    "we will see which movies are similar to Shawshank Redemption, The (1994) movie on the basis of rating."
   ]
  },
  {
   "cell_type": "code",
   "execution_count": 265,
   "id": "34eb7dc1",
   "metadata": {},
   "outputs": [
    {
     "data": {
      "text/plain": [
       "userId\n",
       "1      0.000000\n",
       "2      0.000000\n",
       "3      1.440000\n",
       "4      0.000000\n",
       "5      0.000000\n",
       "         ...   \n",
       "667    0.000000\n",
       "668    0.250000\n",
       "669    0.000000\n",
       "670    1.193548\n",
       "671    1.082609\n",
       "Name: Shawshank Redemption, The (1994), Length: 671, dtype: float64"
      ]
     },
     "execution_count": 265,
     "metadata": {},
     "output_type": "execute_result"
    }
   ],
   "source": [
    "# get rating for a movie\n",
    "shawshank_user_rating = user_ratings_table_normed['Shawshank Redemption, The (1994)']\n",
    "shawshank_user_rating"
   ]
  },
  {
   "cell_type": "markdown",
   "id": "58778772",
   "metadata": {},
   "source": [
    "The corrwith function in Pandas computes pair-wise correlations between rows and columns of a dataframe with rows and columns of a series or dataframe. Rows and columns of the dataframe and the other object are first matched before computing the correlations."
   ]
  },
  {
   "cell_type": "code",
   "execution_count": 266,
   "id": "741360d0",
   "metadata": {},
   "outputs": [
    {
     "data": {
      "text/plain": [
       "title\n",
       "'Hellboy': The Seeds of Creation (2004)    0.023679\n",
       "'Round Midnight (1986)                     0.050610\n",
       "'Salem's Lot (2004)                        0.023679\n",
       "'Til There Was You (1997)                  0.036762\n",
       "'burbs, The (1989)                        -0.029990\n",
       "dtype: float64"
      ]
     },
     "execution_count": 266,
     "metadata": {},
     "output_type": "execute_result"
    }
   ],
   "source": [
    "# finding correlation with different movies\n",
    "similar_shawshank_movies = user_ratings_table_normed.corrwith(shawshank_user_rating)\n",
    "# observing the result\n",
    "similar_shawshank_movies.head()"
   ]
  },
  {
   "cell_type": "code",
   "execution_count": 267,
   "id": "6f111097",
   "metadata": {},
   "outputs": [
    {
     "data": {
      "text/html": [
       "<div>\n",
       "<style scoped>\n",
       "    .dataframe tbody tr th:only-of-type {\n",
       "        vertical-align: middle;\n",
       "    }\n",
       "\n",
       "    .dataframe tbody tr th {\n",
       "        vertical-align: top;\n",
       "    }\n",
       "\n",
       "    .dataframe thead th {\n",
       "        text-align: right;\n",
       "    }\n",
       "</style>\n",
       "<table border=\"1\" class=\"dataframe\">\n",
       "  <thead>\n",
       "    <tr style=\"text-align: right;\">\n",
       "      <th></th>\n",
       "      <th>Corr</th>\n",
       "    </tr>\n",
       "    <tr>\n",
       "      <th>title</th>\n",
       "      <th></th>\n",
       "    </tr>\n",
       "  </thead>\n",
       "  <tbody>\n",
       "    <tr>\n",
       "      <th>'Hellboy': The Seeds of Creation (2004)</th>\n",
       "      <td>0.023679</td>\n",
       "    </tr>\n",
       "    <tr>\n",
       "      <th>'Round Midnight (1986)</th>\n",
       "      <td>0.050610</td>\n",
       "    </tr>\n",
       "    <tr>\n",
       "      <th>'Salem's Lot (2004)</th>\n",
       "      <td>0.023679</td>\n",
       "    </tr>\n",
       "    <tr>\n",
       "      <th>'Til There Was You (1997)</th>\n",
       "      <td>0.036762</td>\n",
       "    </tr>\n",
       "    <tr>\n",
       "      <th>'burbs, The (1989)</th>\n",
       "      <td>-0.029990</td>\n",
       "    </tr>\n",
       "  </tbody>\n",
       "</table>\n",
       "</div>"
      ],
      "text/plain": [
       "                                             Corr\n",
       "title                                            \n",
       "'Hellboy': The Seeds of Creation (2004)  0.023679\n",
       "'Round Midnight (1986)                   0.050610\n",
       "'Salem's Lot (2004)                      0.023679\n",
       "'Til There Was You (1997)                0.036762\n",
       "'burbs, The (1989)                      -0.029990"
      ]
     },
     "execution_count": 267,
     "metadata": {},
     "output_type": "execute_result"
    }
   ],
   "source": [
    "#creating a threshold for minimum number of ratings\n",
    "corr_shawshank = pd.DataFrame(similar_shawshank_movies, columns=['Corr'])\n",
    "corr_shawshank.dropna(inplace=True)\n",
    "corr_shawshank.head()"
   ]
  },
  {
   "cell_type": "code",
   "execution_count": 269,
   "id": "1d3a67da",
   "metadata": {},
   "outputs": [
    {
     "data": {
      "text/html": [
       "<div>\n",
       "<style scoped>\n",
       "    .dataframe tbody tr th:only-of-type {\n",
       "        vertical-align: middle;\n",
       "    }\n",
       "\n",
       "    .dataframe tbody tr th {\n",
       "        vertical-align: top;\n",
       "    }\n",
       "\n",
       "    .dataframe thead th {\n",
       "        text-align: right;\n",
       "    }\n",
       "</style>\n",
       "<table border=\"1\" class=\"dataframe\">\n",
       "  <thead>\n",
       "    <tr style=\"text-align: right;\">\n",
       "      <th></th>\n",
       "      <th>Corr</th>\n",
       "      <th>number_of_ratings</th>\n",
       "    </tr>\n",
       "    <tr>\n",
       "      <th>title</th>\n",
       "      <th></th>\n",
       "      <th></th>\n",
       "    </tr>\n",
       "  </thead>\n",
       "  <tbody>\n",
       "    <tr>\n",
       "      <th>'Hellboy': The Seeds of Creation (2004)</th>\n",
       "      <td>0.023679</td>\n",
       "      <td>1</td>\n",
       "    </tr>\n",
       "    <tr>\n",
       "      <th>'Round Midnight (1986)</th>\n",
       "      <td>0.050610</td>\n",
       "      <td>2</td>\n",
       "    </tr>\n",
       "    <tr>\n",
       "      <th>'Salem's Lot (2004)</th>\n",
       "      <td>0.023679</td>\n",
       "      <td>1</td>\n",
       "    </tr>\n",
       "    <tr>\n",
       "      <th>'Til There Was You (1997)</th>\n",
       "      <td>0.036762</td>\n",
       "      <td>4</td>\n",
       "    </tr>\n",
       "    <tr>\n",
       "      <th>'burbs, The (1989)</th>\n",
       "      <td>-0.029990</td>\n",
       "      <td>19</td>\n",
       "    </tr>\n",
       "  </tbody>\n",
       "</table>\n",
       "</div>"
      ],
      "text/plain": [
       "                                             Corr  number_of_ratings\n",
       "title                                                               \n",
       "'Hellboy': The Seeds of Creation (2004)  0.023679                  1\n",
       "'Round Midnight (1986)                   0.050610                  2\n",
       "'Salem's Lot (2004)                      0.023679                  1\n",
       "'Til There Was You (1997)                0.036762                  4\n",
       "'burbs, The (1989)                      -0.029990                 19"
      ]
     },
     "execution_count": 269,
     "metadata": {},
     "output_type": "execute_result"
    }
   ],
   "source": [
    "# bringing in number of rating \n",
    "corr_shawshank = corr_shawshank.join(rating_df['number_of_ratings'])\n",
    "corr_shawshank.head()"
   ]
  },
  {
   "cell_type": "code",
   "execution_count": 270,
   "id": "7aecebe6",
   "metadata": {},
   "outputs": [
    {
     "data": {
      "text/html": [
       "<div>\n",
       "<style scoped>\n",
       "    .dataframe tbody tr th:only-of-type {\n",
       "        vertical-align: middle;\n",
       "    }\n",
       "\n",
       "    .dataframe tbody tr th {\n",
       "        vertical-align: top;\n",
       "    }\n",
       "\n",
       "    .dataframe thead th {\n",
       "        text-align: right;\n",
       "    }\n",
       "</style>\n",
       "<table border=\"1\" class=\"dataframe\">\n",
       "  <thead>\n",
       "    <tr style=\"text-align: right;\">\n",
       "      <th></th>\n",
       "      <th>Corr</th>\n",
       "      <th>number_of_ratings</th>\n",
       "    </tr>\n",
       "    <tr>\n",
       "      <th>title</th>\n",
       "      <th></th>\n",
       "      <th></th>\n",
       "    </tr>\n",
       "  </thead>\n",
       "  <tbody>\n",
       "    <tr>\n",
       "      <th>Shawshank Redemption, The (1994)</th>\n",
       "      <td>1.000000</td>\n",
       "      <td>311</td>\n",
       "    </tr>\n",
       "    <tr>\n",
       "      <th>Usual Suspects, The (1995)</th>\n",
       "      <td>0.278356</td>\n",
       "      <td>201</td>\n",
       "    </tr>\n",
       "    <tr>\n",
       "      <th>Forrest Gump (1994)</th>\n",
       "      <td>0.258404</td>\n",
       "      <td>341</td>\n",
       "    </tr>\n",
       "    <tr>\n",
       "      <th>Good Will Hunting (1997)</th>\n",
       "      <td>0.244178</td>\n",
       "      <td>157</td>\n",
       "    </tr>\n",
       "    <tr>\n",
       "      <th>Braveheart (1995)</th>\n",
       "      <td>0.235068</td>\n",
       "      <td>228</td>\n",
       "    </tr>\n",
       "    <tr>\n",
       "      <th>Beautiful Mind, A (2001)</th>\n",
       "      <td>0.223111</td>\n",
       "      <td>114</td>\n",
       "    </tr>\n",
       "    <tr>\n",
       "      <th>Pulp Fiction (1994)</th>\n",
       "      <td>0.216315</td>\n",
       "      <td>324</td>\n",
       "    </tr>\n",
       "    <tr>\n",
       "      <th>Schindler's List (1993)</th>\n",
       "      <td>0.214576</td>\n",
       "      <td>244</td>\n",
       "    </tr>\n",
       "    <tr>\n",
       "      <th>Green Mile, The (1999)</th>\n",
       "      <td>0.214251</td>\n",
       "      <td>103</td>\n",
       "    </tr>\n",
       "    <tr>\n",
       "      <th>Swingers (1996)</th>\n",
       "      <td>0.205387</td>\n",
       "      <td>42</td>\n",
       "    </tr>\n",
       "  </tbody>\n",
       "</table>\n",
       "</div>"
      ],
      "text/plain": [
       "                                      Corr  number_of_ratings\n",
       "title                                                        \n",
       "Shawshank Redemption, The (1994)  1.000000                311\n",
       "Usual Suspects, The (1995)        0.278356                201\n",
       "Forrest Gump (1994)               0.258404                341\n",
       "Good Will Hunting (1997)          0.244178                157\n",
       "Braveheart (1995)                 0.235068                228\n",
       "Beautiful Mind, A (2001)          0.223111                114\n",
       "Pulp Fiction (1994)               0.216315                324\n",
       "Schindler's List (1993)           0.214576                244\n",
       "Green Mile, The (1999)            0.214251                103\n",
       "Swingers (1996)                   0.205387                 42"
      ]
     },
     "execution_count": 270,
     "metadata": {},
     "output_type": "execute_result"
    }
   ],
   "source": [
    "corr_shawshank[corr_shawshank['number_of_ratings'] > 20].sort_values(by='Corr', ascending=False).head(10)"
   ]
  },
  {
   "cell_type": "markdown",
   "id": "29b826a0",
   "metadata": {},
   "source": [
    "Above movies are similar to Shawshank Redemption, The (1994) movie on the basis of rating."
   ]
  },
  {
   "cell_type": "markdown",
   "id": "bb9665f7",
   "metadata": {},
   "source": [
    "# Model Based Filtering"
   ]
  },
  {
   "cell_type": "markdown",
   "id": "e6946cfd",
   "metadata": {},
   "source": [
    "Model-based collaborative filtering uses the data in the database to create a model that can then be used to generate predictions."
   ]
  },
  {
   "cell_type": "markdown",
   "id": "33da7973",
   "metadata": {},
   "source": [
    "###### Matrix sparsity"
   ]
  },
  {
   "cell_type": "markdown",
   "id": "1dc58041",
   "metadata": {},
   "source": [
    "A common challenge with real-world ratings data is that most users will not have rated most items, and most items will only have been rated by a small number of users. This results in a very empty or sparse DataFrame."
   ]
  },
  {
   "cell_type": "code",
   "execution_count": 271,
   "id": "3687d3a7",
   "metadata": {},
   "outputs": [
    {
     "data": {
      "text/html": [
       "<div>\n",
       "<style scoped>\n",
       "    .dataframe tbody tr th:only-of-type {\n",
       "        vertical-align: middle;\n",
       "    }\n",
       "\n",
       "    .dataframe tbody tr th {\n",
       "        vertical-align: top;\n",
       "    }\n",
       "\n",
       "    .dataframe thead th {\n",
       "        text-align: right;\n",
       "    }\n",
       "</style>\n",
       "<table border=\"1\" class=\"dataframe\">\n",
       "  <thead>\n",
       "    <tr style=\"text-align: right;\">\n",
       "      <th>title</th>\n",
       "      <th>'Hellboy': The Seeds of Creation (2004)</th>\n",
       "      <th>'Round Midnight (1986)</th>\n",
       "      <th>'Salem's Lot (2004)</th>\n",
       "      <th>'Til There Was You (1997)</th>\n",
       "      <th>'burbs, The (1989)</th>\n",
       "      <th>'night Mother (1986)</th>\n",
       "      <th>(500) Days of Summer (2009)</th>\n",
       "      <th>*batteries not included (1987)</th>\n",
       "      <th>...And Justice for All (1979)</th>\n",
       "      <th>1-900 (06) (1994)</th>\n",
       "      <th>...</th>\n",
       "      <th>Zoom (2006)</th>\n",
       "      <th>Zootopia (2016)</th>\n",
       "      <th>Zulu (1964)</th>\n",
       "      <th>Zulu (2013)</th>\n",
       "      <th>[REC] (2007)</th>\n",
       "      <th>eXistenZ (1999)</th>\n",
       "      <th>xXx (2002)</th>\n",
       "      <th>xXx: State of the Union (2005)</th>\n",
       "      <th>¡Three Amigos! (1986)</th>\n",
       "      <th>À nous la liberté (Freedom for Us) (1931)</th>\n",
       "    </tr>\n",
       "    <tr>\n",
       "      <th>userId</th>\n",
       "      <th></th>\n",
       "      <th></th>\n",
       "      <th></th>\n",
       "      <th></th>\n",
       "      <th></th>\n",
       "      <th></th>\n",
       "      <th></th>\n",
       "      <th></th>\n",
       "      <th></th>\n",
       "      <th></th>\n",
       "      <th></th>\n",
       "      <th></th>\n",
       "      <th></th>\n",
       "      <th></th>\n",
       "      <th></th>\n",
       "      <th></th>\n",
       "      <th></th>\n",
       "      <th></th>\n",
       "      <th></th>\n",
       "      <th></th>\n",
       "      <th></th>\n",
       "    </tr>\n",
       "  </thead>\n",
       "  <tbody>\n",
       "    <tr>\n",
       "      <th>1</th>\n",
       "      <td>NaN</td>\n",
       "      <td>NaN</td>\n",
       "      <td>NaN</td>\n",
       "      <td>NaN</td>\n",
       "      <td>NaN</td>\n",
       "      <td>NaN</td>\n",
       "      <td>NaN</td>\n",
       "      <td>NaN</td>\n",
       "      <td>NaN</td>\n",
       "      <td>NaN</td>\n",
       "      <td>...</td>\n",
       "      <td>NaN</td>\n",
       "      <td>NaN</td>\n",
       "      <td>NaN</td>\n",
       "      <td>NaN</td>\n",
       "      <td>NaN</td>\n",
       "      <td>NaN</td>\n",
       "      <td>NaN</td>\n",
       "      <td>NaN</td>\n",
       "      <td>NaN</td>\n",
       "      <td>NaN</td>\n",
       "    </tr>\n",
       "    <tr>\n",
       "      <th>2</th>\n",
       "      <td>NaN</td>\n",
       "      <td>NaN</td>\n",
       "      <td>NaN</td>\n",
       "      <td>NaN</td>\n",
       "      <td>NaN</td>\n",
       "      <td>NaN</td>\n",
       "      <td>NaN</td>\n",
       "      <td>NaN</td>\n",
       "      <td>NaN</td>\n",
       "      <td>NaN</td>\n",
       "      <td>...</td>\n",
       "      <td>NaN</td>\n",
       "      <td>NaN</td>\n",
       "      <td>NaN</td>\n",
       "      <td>NaN</td>\n",
       "      <td>NaN</td>\n",
       "      <td>NaN</td>\n",
       "      <td>NaN</td>\n",
       "      <td>NaN</td>\n",
       "      <td>NaN</td>\n",
       "      <td>NaN</td>\n",
       "    </tr>\n",
       "    <tr>\n",
       "      <th>3</th>\n",
       "      <td>NaN</td>\n",
       "      <td>NaN</td>\n",
       "      <td>NaN</td>\n",
       "      <td>NaN</td>\n",
       "      <td>NaN</td>\n",
       "      <td>NaN</td>\n",
       "      <td>NaN</td>\n",
       "      <td>NaN</td>\n",
       "      <td>NaN</td>\n",
       "      <td>NaN</td>\n",
       "      <td>...</td>\n",
       "      <td>NaN</td>\n",
       "      <td>NaN</td>\n",
       "      <td>NaN</td>\n",
       "      <td>NaN</td>\n",
       "      <td>NaN</td>\n",
       "      <td>NaN</td>\n",
       "      <td>NaN</td>\n",
       "      <td>NaN</td>\n",
       "      <td>NaN</td>\n",
       "      <td>NaN</td>\n",
       "    </tr>\n",
       "    <tr>\n",
       "      <th>4</th>\n",
       "      <td>NaN</td>\n",
       "      <td>NaN</td>\n",
       "      <td>NaN</td>\n",
       "      <td>NaN</td>\n",
       "      <td>NaN</td>\n",
       "      <td>NaN</td>\n",
       "      <td>NaN</td>\n",
       "      <td>NaN</td>\n",
       "      <td>NaN</td>\n",
       "      <td>NaN</td>\n",
       "      <td>...</td>\n",
       "      <td>NaN</td>\n",
       "      <td>NaN</td>\n",
       "      <td>NaN</td>\n",
       "      <td>NaN</td>\n",
       "      <td>NaN</td>\n",
       "      <td>NaN</td>\n",
       "      <td>NaN</td>\n",
       "      <td>NaN</td>\n",
       "      <td>NaN</td>\n",
       "      <td>NaN</td>\n",
       "    </tr>\n",
       "    <tr>\n",
       "      <th>5</th>\n",
       "      <td>NaN</td>\n",
       "      <td>NaN</td>\n",
       "      <td>NaN</td>\n",
       "      <td>NaN</td>\n",
       "      <td>NaN</td>\n",
       "      <td>NaN</td>\n",
       "      <td>NaN</td>\n",
       "      <td>NaN</td>\n",
       "      <td>NaN</td>\n",
       "      <td>NaN</td>\n",
       "      <td>...</td>\n",
       "      <td>NaN</td>\n",
       "      <td>NaN</td>\n",
       "      <td>NaN</td>\n",
       "      <td>NaN</td>\n",
       "      <td>NaN</td>\n",
       "      <td>NaN</td>\n",
       "      <td>NaN</td>\n",
       "      <td>NaN</td>\n",
       "      <td>NaN</td>\n",
       "      <td>NaN</td>\n",
       "    </tr>\n",
       "  </tbody>\n",
       "</table>\n",
       "<p>5 rows × 7062 columns</p>\n",
       "</div>"
      ],
      "text/plain": [
       "title   'Hellboy': The Seeds of Creation (2004)  'Round Midnight (1986)  \\\n",
       "userId                                                                    \n",
       "1                                           NaN                     NaN   \n",
       "2                                           NaN                     NaN   \n",
       "3                                           NaN                     NaN   \n",
       "4                                           NaN                     NaN   \n",
       "5                                           NaN                     NaN   \n",
       "\n",
       "title   'Salem's Lot (2004)  'Til There Was You (1997)  'burbs, The (1989)  \\\n",
       "userId                                                                       \n",
       "1                       NaN                        NaN                 NaN   \n",
       "2                       NaN                        NaN                 NaN   \n",
       "3                       NaN                        NaN                 NaN   \n",
       "4                       NaN                        NaN                 NaN   \n",
       "5                       NaN                        NaN                 NaN   \n",
       "\n",
       "title   'night Mother (1986)  (500) Days of Summer (2009)  \\\n",
       "userId                                                      \n",
       "1                        NaN                          NaN   \n",
       "2                        NaN                          NaN   \n",
       "3                        NaN                          NaN   \n",
       "4                        NaN                          NaN   \n",
       "5                        NaN                          NaN   \n",
       "\n",
       "title   *batteries not included (1987)  ...And Justice for All (1979)  \\\n",
       "userId                                                                  \n",
       "1                                  NaN                            NaN   \n",
       "2                                  NaN                            NaN   \n",
       "3                                  NaN                            NaN   \n",
       "4                                  NaN                            NaN   \n",
       "5                                  NaN                            NaN   \n",
       "\n",
       "title   1-900 (06) (1994)  ...  Zoom (2006)  Zootopia (2016)  Zulu (1964)  \\\n",
       "userId                     ...                                              \n",
       "1                     NaN  ...          NaN              NaN          NaN   \n",
       "2                     NaN  ...          NaN              NaN          NaN   \n",
       "3                     NaN  ...          NaN              NaN          NaN   \n",
       "4                     NaN  ...          NaN              NaN          NaN   \n",
       "5                     NaN  ...          NaN              NaN          NaN   \n",
       "\n",
       "title   Zulu (2013)  [REC] (2007)  eXistenZ (1999)  xXx (2002)  \\\n",
       "userId                                                           \n",
       "1               NaN           NaN              NaN         NaN   \n",
       "2               NaN           NaN              NaN         NaN   \n",
       "3               NaN           NaN              NaN         NaN   \n",
       "4               NaN           NaN              NaN         NaN   \n",
       "5               NaN           NaN              NaN         NaN   \n",
       "\n",
       "title   xXx: State of the Union (2005)  ¡Three Amigos! (1986)  \\\n",
       "userId                                                          \n",
       "1                                  NaN                    NaN   \n",
       "2                                  NaN                    NaN   \n",
       "3                                  NaN                    NaN   \n",
       "4                                  NaN                    NaN   \n",
       "5                                  NaN                    NaN   \n",
       "\n",
       "title   À nous la liberté (Freedom for Us) (1931)  \n",
       "userId                                             \n",
       "1                                             NaN  \n",
       "2                                             NaN  \n",
       "3                                             NaN  \n",
       "4                                             NaN  \n",
       "5                                             NaN  \n",
       "\n",
       "[5 rows x 7062 columns]"
      ]
     },
     "execution_count": 271,
     "metadata": {},
     "output_type": "execute_result"
    }
   ],
   "source": [
    "user_ratings_pivot.head()"
   ]
  },
  {
   "cell_type": "markdown",
   "id": "6109b1f2",
   "metadata": {},
   "source": [
    "Let's calculate how sparse the movie ratings data is by counting the number of occupied cells and compare it to the size of the full DataFrame."
   ]
  },
  {
   "cell_type": "code",
   "execution_count": 272,
   "id": "18645ddc",
   "metadata": {},
   "outputs": [
    {
     "name": "stdout",
     "output_type": "stream",
     "text": [
      "0.9794787576589045\n"
     ]
    }
   ],
   "source": [
    "# Count the occupied cells\n",
    "sparsity_count = user_ratings_pivot.isnull().values.sum()\n",
    "# Count all cells\n",
    "full_count = user_ratings_pivot.size\n",
    "# Find the sparsity of the DataFrame\n",
    "sparsity = sparsity_count / full_count\n",
    "print(sparsity)"
   ]
  },
  {
   "cell_type": "markdown",
   "id": "f3c8f7f7",
   "metadata": {},
   "source": [
    "As you can see, the DataFrame is over 97% empty. This means that less than 3% of the DataFrame includes any data. \n",
    "This is actually a common concern in real-world rating data as the number of users and items are generally quite high and the number of reviews are quite low. "
   ]
  },
  {
   "cell_type": "code",
   "execution_count": 273,
   "id": "be10fea7",
   "metadata": {},
   "outputs": [
    {
     "data": {
      "text/plain": [
       "title\n",
       "'Hellboy': The Seeds of Creation (2004)              1\n",
       "Iron Sky (2012)                                      1\n",
       "Irrational Man (2015)                                1\n",
       "Ishtar (1987)                                        1\n",
       "It's a Very Merry Muppet Christmas Movie (2002)      1\n",
       "                                                  ... \n",
       "Star Wars: Episode IV - A New Hope (1977)          291\n",
       "Silence of the Lambs, The (1991)                   304\n",
       "Shawshank Redemption, The (1994)                   311\n",
       "Pulp Fiction (1994)                                324\n",
       "Forrest Gump (1994)                                341\n",
       "Length: 7062, dtype: int64"
      ]
     },
     "execution_count": 273,
     "metadata": {},
     "output_type": "execute_result"
    }
   ],
   "source": [
    "user_ratings_pivot.notnull().sum().sort_values()"
   ]
  },
  {
   "cell_type": "code",
   "execution_count": 274,
   "id": "d7f8ec17",
   "metadata": {},
   "outputs": [
    {
     "data": {
      "text/html": [
       "<div>\n",
       "<style scoped>\n",
       "    .dataframe tbody tr th:only-of-type {\n",
       "        vertical-align: middle;\n",
       "    }\n",
       "\n",
       "    .dataframe tbody tr th {\n",
       "        vertical-align: top;\n",
       "    }\n",
       "\n",
       "    .dataframe thead th {\n",
       "        text-align: right;\n",
       "    }\n",
       "</style>\n",
       "<table border=\"1\" class=\"dataframe\">\n",
       "  <thead>\n",
       "    <tr style=\"text-align: right;\">\n",
       "      <th></th>\n",
       "      <th>movieId</th>\n",
       "      <th>title</th>\n",
       "      <th>userId</th>\n",
       "      <th>rating</th>\n",
       "    </tr>\n",
       "  </thead>\n",
       "  <tbody>\n",
       "    <tr>\n",
       "      <th>94376</th>\n",
       "      <td>93805</td>\n",
       "      <td>Iron Sky (2012)</td>\n",
       "      <td>176</td>\n",
       "      <td>3.5</td>\n",
       "    </tr>\n",
       "  </tbody>\n",
       "</table>\n",
       "</div>"
      ],
      "text/plain": [
       "       movieId            title  userId  rating\n",
       "94376    93805  Iron Sky (2012)     176     3.5"
      ]
     },
     "execution_count": 274,
     "metadata": {},
     "output_type": "execute_result"
    }
   ],
   "source": [
    "df[df['title'] == 'Iron Sky (2012)']"
   ]
  },
  {
   "cell_type": "markdown",
   "id": "17af5118",
   "metadata": {},
   "source": [
    "This can create problems if we were to use KNN with sparse data because KNN requires you to find the K nearest users that have rated the item and if there are not many neighbors therefore we would have to return an average of all reviews because there is no other data.This will not actually take the similarities into account.\n",
    "\n",
    "We will leverage the power of matrix factorization to deal with this sparsity.\n",
    "Matrix factorization is when we decompose the user-rating matrix into the product of two lower dimensionality matrices. "
   ]
  },
  {
   "cell_type": "markdown",
   "id": "0b10c587",
   "metadata": {},
   "source": [
    "###### Matrix Factorization — Singular Value Decomposition "
   ]
  },
  {
   "cell_type": "markdown",
   "id": "44da2542",
   "metadata": {},
   "source": [
    "Singular Value Decomposition is a matrix factorization technique that decomposes the matrix into the product of lower dimensionality matrices, and then extracts the latent features from highest importance to lowest.\n",
    "Instead of iterating through individual ratings like KNN, it views the rating matrix as a whole. Therefore, it has less computation cost compared to KNN but also makes it less interpretable.\n",
    "SVD extract the latent features (which is not an actual features contained in the dataset, but what the algorithm magically discovered as valuable hidden features) to form the factorized matrices U and V transposed, and placed them in a descending feature importance order.It then fills in the blank ratings by taking the product of U and V transposed in a weighted approach based on feature importance. These latent feature parameters are learned iteratively through minimizing the error"
   ]
  },
  {
   "cell_type": "markdown",
   "id": "19aa7dfc",
   "metadata": {},
   "source": [
    "Collaborative filtering technique represents recommender system as a regression model, where the output is a numeric rating value. So we can apply regression evaluation metrics to our recommendation system."
   ]
  },
  {
   "cell_type": "code",
   "execution_count": 275,
   "id": "72218b20",
   "metadata": {},
   "outputs": [],
   "source": [
    "from surprise import KNNWithMeans\n",
    "from surprise import SVD"
   ]
  },
  {
   "cell_type": "code",
   "execution_count": 276,
   "id": "d591b539",
   "metadata": {},
   "outputs": [],
   "source": [
    "similarity = {\n",
    "    \"name\": \"cosine\",\n",
    "    \"user_based\": False,  # item-based similarity\n",
    "}"
   ]
  },
  {
   "cell_type": "markdown",
   "id": "f6b1e8db",
   "metadata": {},
   "source": [
    "To ensure KNN uses item based similarity, use option \"user_based: False\". \n",
    "so that we can predict the unknown ratings of movie based on similar movies with known ratings."
   ]
  },
  {
   "cell_type": "markdown",
   "id": "46d7aa8f",
   "metadata": {},
   "source": [
    "###### Model Evaluation"
   ]
  },
  {
   "cell_type": "markdown",
   "id": "519b79d5",
   "metadata": {},
   "source": [
    "I will use 2 collaborative based filtering algorithms — K nearest neighbor and Singular value decomposition.\n",
    "The surprise library allows us to implement both algorithms in just several lines of code.\n",
    "Surprise library offers a cross_validate function that executes cross validation automatically. \n",
    "In order to let the Surprise library understand the dataset, we need to ingest the dataset into Surprise Reader object using load_from_dfand keep the rating scale between 0 and 5."
   ]
  },
  {
   "cell_type": "code",
   "execution_count": 277,
   "id": "90b14b0e",
   "metadata": {},
   "outputs": [],
   "source": [
    "from surprise import Dataset\n",
    "from surprise import Reader # load df into Surprise Reader object\n",
    "reader = Reader(rating_scale = (0,5))\n",
    "rating_df = Dataset.load_from_df(df[['userId','movieId','rating']], reader)"
   ]
  },
  {
   "cell_type": "code",
   "execution_count": 278,
   "id": "d1a4c10d",
   "metadata": {},
   "outputs": [],
   "source": [
    "knn_model = KNNWithMeans(sim_options = similarity)\n",
    "svd_model = SVD()"
   ]
  },
  {
   "cell_type": "markdown",
   "id": "6f1a364d",
   "metadata": {},
   "source": [
    "Then pass both knn_model and svd_model into the cross_validate function with 5 cross validation folds."
   ]
  },
  {
   "cell_type": "code",
   "execution_count": 279,
   "id": "55665c3c",
   "metadata": {},
   "outputs": [
    {
     "name": "stdout",
     "output_type": "stream",
     "text": [
      "Computing the cosine similarity matrix...\n",
      "Done computing similarity matrix.\n",
      "Computing the cosine similarity matrix...\n",
      "Done computing similarity matrix.\n",
      "Computing the cosine similarity matrix...\n",
      "Done computing similarity matrix.\n",
      "Computing the cosine similarity matrix...\n",
      "Done computing similarity matrix.\n",
      "Computing the cosine similarity matrix...\n",
      "Done computing similarity matrix.\n",
      "Evaluating RMSE, MAE of algorithm KNNWithMeans on 5 split(s).\n",
      "\n",
      "                  Fold 1  Fold 2  Fold 3  Fold 4  Fold 5  Mean    Std     \n",
      "RMSE (testset)    0.9140  0.9280  0.9169  0.9231  0.9122  0.9188  0.0059  \n",
      "MAE (testset)     0.7037  0.7083  0.7032  0.7066  0.7005  0.7045  0.0027  \n",
      "Fit time          9.87    10.01   9.45    9.17    11.44   9.99    0.79    \n",
      "Test time         6.00    4.95    5.14    6.27    5.17    5.51    0.53    \n",
      "Evaluating RMSE, MAE of algorithm SVD on 5 split(s).\n",
      "\n",
      "                  Fold 1  Fold 2  Fold 3  Fold 4  Fold 5  Mean    Std     \n",
      "RMSE (testset)    0.8873  0.8927  0.9007  0.8978  0.8908  0.8938  0.0048  \n",
      "MAE (testset)     0.6834  0.6861  0.6947  0.6917  0.6866  0.6885  0.0041  \n",
      "Fit time          4.28    4.41    3.93    3.79    3.64    4.01    0.29    \n",
      "Test time         0.22    0.10    0.14    0.10    0.10    0.13    0.05    \n"
     ]
    }
   ],
   "source": [
    "from surprise.model_selection import cross_validate\n",
    "cv_knn = cross_validate(knn_model, rating_df, measures=['RMSE', 'MAE'], cv=5, verbose=True)\n",
    "cv_svd = cross_validate(svd_model, rating_df, measures=['RMSE', 'MAE'], cv=5, verbose=True)"
   ]
  },
  {
   "cell_type": "markdown",
   "id": "50ff9b17",
   "metadata": {},
   "source": [
    "The result shows the comparison between KNN and SVD. "
   ]
  },
  {
   "cell_type": "markdown",
   "id": "f7ec4326",
   "metadata": {},
   "source": [
    "As shown, SVD has smaller RMSE, MAE values, hence performs better than KNN, and also takes significantly less time to compute."
   ]
  },
  {
   "cell_type": "markdown",
   "id": "cbfaa896",
   "metadata": {},
   "source": [
    "###### Train-Test Split Evaluation"
   ]
  },
  {
   "cell_type": "markdown",
   "id": "170bf2a5",
   "metadata": {},
   "source": [
    "Here we will split the dataset into 80% for training and 20% for testing. Instead of iterating the model build 5 times as in cross validation, it will only train the model once and test it once."
   ]
  },
  {
   "cell_type": "code",
   "execution_count": 280,
   "id": "d429b490",
   "metadata": {},
   "outputs": [],
   "source": [
    "from surprise.model_selection import train_test_split\n",
    "from surprise import accuracy "
   ]
  },
  {
   "cell_type": "code",
   "execution_count": 281,
   "id": "127cacc4",
   "metadata": {},
   "outputs": [],
   "source": [
    "#dividing data into train and test set\n",
    "training_set, testing_set = train_test_split(rating_df, test_size = 0.2)"
   ]
  },
  {
   "cell_type": "code",
   "execution_count": 282,
   "id": "4c8d92f1",
   "metadata": {},
   "outputs": [
    {
     "name": "stdout",
     "output_type": "stream",
     "text": [
      "Computing the cosine similarity matrix...\n",
      "Done computing similarity matrix.\n",
      "KNN RMSE - 0.9180918562232379\n",
      "KNN MAE - 0.7054351557425212\n",
      "KNN MSE - 0.8428926564634305\n"
     ]
    }
   ],
   "source": [
    "# fitting the model \n",
    "knn_model.fit(training_set)\n",
    "#Making predictions\n",
    "pred = knn_model.test(testing_set)\n",
    "# computing RMSE\n",
    "print(\"KNN RMSE -\", accuracy.rmse(pred, verbose = False))\n",
    "print(\"KNN MAE -\", accuracy.mae(pred, verbose=False))\n",
    "print(\"KNN MSE -\", accuracy.mse(pred, verbose=False))"
   ]
  },
  {
   "cell_type": "markdown",
   "id": "bf9bb540",
   "metadata": {},
   "source": [
    "The accuracy is 0.92 which is good. \n",
    "However the errors are MAE is 0.70 and MSE 0.85"
   ]
  },
  {
   "cell_type": "markdown",
   "id": "7de56f2e",
   "metadata": {},
   "source": [
    "Lets try SVD model"
   ]
  },
  {
   "cell_type": "code",
   "execution_count": 283,
   "id": "ff800587",
   "metadata": {},
   "outputs": [
    {
     "name": "stdout",
     "output_type": "stream",
     "text": [
      "SVD RMSE - 0.8912746762213019\n",
      "SVD MAE - 0.6875084776882803\n",
      "SVD MSE - 0.7943705484733865\n"
     ]
    }
   ],
   "source": [
    "# fitting the model \n",
    "svd_model.fit(training_set)\n",
    "\n",
    "#Making predictions\n",
    "svd_pred = svd_model.test(testing_set)\n",
    "    \n",
    "# computing RMSE\n",
    "print(\"SVD RMSE -\", accuracy.rmse(svd_pred, verbose = False))\n",
    "print(\"SVD MAE -\", accuracy.mae(svd_pred, verbose=False))\n",
    "print(\"SVD MSE -\", accuracy.mse(svd_pred, verbose=False))"
   ]
  },
  {
   "cell_type": "markdown",
   "id": "1085766c",
   "metadata": {},
   "source": [
    "The errors here are lesser that KNN. The accuracy here is 0.89 which is not bad.\n",
    "SVD shows better performance overall."
   ]
  },
  {
   "cell_type": "markdown",
   "id": "6698a972",
   "metadata": {},
   "source": [
    "###### Recommendation"
   ]
  },
  {
   "cell_type": "code",
   "execution_count": 19,
   "id": "81d1f9b4",
   "metadata": {},
   "outputs": [
    {
     "data": {
      "text/html": [
       "<div>\n",
       "<style scoped>\n",
       "    .dataframe tbody tr th:only-of-type {\n",
       "        vertical-align: middle;\n",
       "    }\n",
       "\n",
       "    .dataframe tbody tr th {\n",
       "        vertical-align: top;\n",
       "    }\n",
       "\n",
       "    .dataframe thead th {\n",
       "        text-align: right;\n",
       "    }\n",
       "</style>\n",
       "<table border=\"1\" class=\"dataframe\">\n",
       "  <thead>\n",
       "    <tr style=\"text-align: right;\">\n",
       "      <th></th>\n",
       "      <th>movieId</th>\n",
       "      <th>title</th>\n",
       "      <th>userId</th>\n",
       "      <th>rating</th>\n",
       "    </tr>\n",
       "  </thead>\n",
       "  <tbody>\n",
       "  </tbody>\n",
       "</table>\n",
       "</div>"
      ],
      "text/plain": [
       "Empty DataFrame\n",
       "Columns: [movieId, title, userId, rating]\n",
       "Index: []"
      ]
     },
     "execution_count": 19,
     "metadata": {},
     "output_type": "execute_result"
    }
   ],
   "source": [
    "df[(df['userId'] == 1) & (df['movieId'] == 100)]"
   ]
  },
  {
   "cell_type": "code",
   "execution_count": 21,
   "id": "642f68ce",
   "metadata": {},
   "outputs": [
    {
     "data": {
      "text/html": [
       "<div>\n",
       "<style scoped>\n",
       "    .dataframe tbody tr th:only-of-type {\n",
       "        vertical-align: middle;\n",
       "    }\n",
       "\n",
       "    .dataframe tbody tr th {\n",
       "        vertical-align: top;\n",
       "    }\n",
       "\n",
       "    .dataframe thead th {\n",
       "        text-align: right;\n",
       "    }\n",
       "</style>\n",
       "<table border=\"1\" class=\"dataframe\">\n",
       "  <thead>\n",
       "    <tr style=\"text-align: right;\">\n",
       "      <th></th>\n",
       "      <th>movieId</th>\n",
       "      <th>title</th>\n",
       "      <th>userId</th>\n",
       "      <th>rating</th>\n",
       "    </tr>\n",
       "  </thead>\n",
       "  <tbody>\n",
       "    <tr>\n",
       "      <th>1611</th>\n",
       "      <td>31</td>\n",
       "      <td>Dangerous Minds (1995)</td>\n",
       "      <td>1</td>\n",
       "      <td>2.5</td>\n",
       "    </tr>\n",
       "    <tr>\n",
       "      <th>24851</th>\n",
       "      <td>1029</td>\n",
       "      <td>Dumbo (1941)</td>\n",
       "      <td>1</td>\n",
       "      <td>3.0</td>\n",
       "    </tr>\n",
       "    <tr>\n",
       "      <th>25553</th>\n",
       "      <td>1061</td>\n",
       "      <td>Sleepers (1996)</td>\n",
       "      <td>1</td>\n",
       "      <td>3.0</td>\n",
       "    </tr>\n",
       "    <tr>\n",
       "      <th>27157</th>\n",
       "      <td>1129</td>\n",
       "      <td>Escape from New York (1981)</td>\n",
       "      <td>1</td>\n",
       "      <td>2.0</td>\n",
       "    </tr>\n",
       "    <tr>\n",
       "      <th>27566</th>\n",
       "      <td>1172</td>\n",
       "      <td>Cinema Paradiso (Nuovo cinema Paradiso) (1989)</td>\n",
       "      <td>1</td>\n",
       "      <td>4.0</td>\n",
       "    </tr>\n",
       "    <tr>\n",
       "      <th>32231</th>\n",
       "      <td>1263</td>\n",
       "      <td>Deer Hunter, The (1978)</td>\n",
       "      <td>1</td>\n",
       "      <td>2.0</td>\n",
       "    </tr>\n",
       "    <tr>\n",
       "      <th>33407</th>\n",
       "      <td>1287</td>\n",
       "      <td>Ben-Hur (1959)</td>\n",
       "      <td>1</td>\n",
       "      <td>2.0</td>\n",
       "    </tr>\n",
       "    <tr>\n",
       "      <th>33735</th>\n",
       "      <td>1293</td>\n",
       "      <td>Gandhi (1982)</td>\n",
       "      <td>1</td>\n",
       "      <td>2.0</td>\n",
       "    </tr>\n",
       "    <tr>\n",
       "      <th>34409</th>\n",
       "      <td>1339</td>\n",
       "      <td>Dracula (Bram Stoker's Dracula) (1992)</td>\n",
       "      <td>1</td>\n",
       "      <td>3.5</td>\n",
       "    </tr>\n",
       "    <tr>\n",
       "      <th>34490</th>\n",
       "      <td>1343</td>\n",
       "      <td>Cape Fear (1991)</td>\n",
       "      <td>1</td>\n",
       "      <td>2.0</td>\n",
       "    </tr>\n",
       "    <tr>\n",
       "      <th>35052</th>\n",
       "      <td>1371</td>\n",
       "      <td>Star Trek: The Motion Picture (1979)</td>\n",
       "      <td>1</td>\n",
       "      <td>2.5</td>\n",
       "    </tr>\n",
       "    <tr>\n",
       "      <th>36103</th>\n",
       "      <td>1405</td>\n",
       "      <td>Beavis and Butt-Head Do America (1996)</td>\n",
       "      <td>1</td>\n",
       "      <td>1.0</td>\n",
       "    </tr>\n",
       "    <tr>\n",
       "      <th>42356</th>\n",
       "      <td>1953</td>\n",
       "      <td>French Connection, The (1971)</td>\n",
       "      <td>1</td>\n",
       "      <td>4.0</td>\n",
       "    </tr>\n",
       "    <tr>\n",
       "      <th>45411</th>\n",
       "      <td>2105</td>\n",
       "      <td>Tron (1982)</td>\n",
       "      <td>1</td>\n",
       "      <td>4.0</td>\n",
       "    </tr>\n",
       "    <tr>\n",
       "      <th>46311</th>\n",
       "      <td>2150</td>\n",
       "      <td>Gods Must Be Crazy, The (1980)</td>\n",
       "      <td>1</td>\n",
       "      <td>3.0</td>\n",
       "    </tr>\n",
       "    <tr>\n",
       "      <th>46766</th>\n",
       "      <td>2193</td>\n",
       "      <td>Willow (1988)</td>\n",
       "      <td>1</td>\n",
       "      <td>2.0</td>\n",
       "    </tr>\n",
       "    <tr>\n",
       "      <th>47672</th>\n",
       "      <td>2294</td>\n",
       "      <td>Antz (1998)</td>\n",
       "      <td>1</td>\n",
       "      <td>2.0</td>\n",
       "    </tr>\n",
       "    <tr>\n",
       "      <th>50210</th>\n",
       "      <td>2455</td>\n",
       "      <td>Fly, The (1986)</td>\n",
       "      <td>1</td>\n",
       "      <td>2.5</td>\n",
       "    </tr>\n",
       "    <tr>\n",
       "      <th>57054</th>\n",
       "      <td>2968</td>\n",
       "      <td>Time Bandits (1981)</td>\n",
       "      <td>1</td>\n",
       "      <td>1.0</td>\n",
       "    </tr>\n",
       "    <tr>\n",
       "      <th>63961</th>\n",
       "      <td>3671</td>\n",
       "      <td>Blazing Saddles (1974)</td>\n",
       "      <td>1</td>\n",
       "      <td>3.0</td>\n",
       "    </tr>\n",
       "  </tbody>\n",
       "</table>\n",
       "</div>"
      ],
      "text/plain": [
       "       movieId                                           title  userId  rating\n",
       "1611        31                          Dangerous Minds (1995)       1     2.5\n",
       "24851     1029                                    Dumbo (1941)       1     3.0\n",
       "25553     1061                                 Sleepers (1996)       1     3.0\n",
       "27157     1129                     Escape from New York (1981)       1     2.0\n",
       "27566     1172  Cinema Paradiso (Nuovo cinema Paradiso) (1989)       1     4.0\n",
       "32231     1263                         Deer Hunter, The (1978)       1     2.0\n",
       "33407     1287                                  Ben-Hur (1959)       1     2.0\n",
       "33735     1293                                   Gandhi (1982)       1     2.0\n",
       "34409     1339          Dracula (Bram Stoker's Dracula) (1992)       1     3.5\n",
       "34490     1343                                Cape Fear (1991)       1     2.0\n",
       "35052     1371            Star Trek: The Motion Picture (1979)       1     2.5\n",
       "36103     1405          Beavis and Butt-Head Do America (1996)       1     1.0\n",
       "42356     1953                   French Connection, The (1971)       1     4.0\n",
       "45411     2105                                     Tron (1982)       1     4.0\n",
       "46311     2150                  Gods Must Be Crazy, The (1980)       1     3.0\n",
       "46766     2193                                   Willow (1988)       1     2.0\n",
       "47672     2294                                     Antz (1998)       1     2.0\n",
       "50210     2455                                 Fly, The (1986)       1     2.5\n",
       "57054     2968                             Time Bandits (1981)       1     1.0\n",
       "63961     3671                          Blazing Saddles (1974)       1     3.0"
      ]
     },
     "execution_count": 21,
     "metadata": {},
     "output_type": "execute_result"
    }
   ],
   "source": [
    "df[df['userId'] == 1]"
   ]
  },
  {
   "cell_type": "code",
   "execution_count": 284,
   "id": "025f7a6a",
   "metadata": {},
   "outputs": [
    {
     "data": {
      "text/plain": [
       "2.435028048833473"
      ]
     },
     "execution_count": 284,
     "metadata": {},
     "output_type": "execute_result"
    }
   ],
   "source": [
    "#predicting rating for user 1 for a movie\n",
    "userid = 1\n",
    "movieid = 100\n",
    "\n",
    "# get prediction for specific users and movie\n",
    "rec_pred = svd_model.predict(1,100)\n",
    "\n",
    "# view estimated rating\n",
    "rec_pred.est"
   ]
  },
  {
   "cell_type": "markdown",
   "id": "2742d14a",
   "metadata": {},
   "source": [
    "For movie with ID 100, we get an estimated prediction of 2.43. This recommender system doesn't care what the movie is (or what it contains). It works purely on the basis of an assigned movie ID and tries to predict ratings based on how the other users have predicted the movie."
   ]
  }
 ],
 "metadata": {
  "kernelspec": {
   "display_name": "Python 3",
   "language": "python",
   "name": "python3"
  },
  "language_info": {
   "codemirror_mode": {
    "name": "ipython",
    "version": 3
   },
   "file_extension": ".py",
   "mimetype": "text/x-python",
   "name": "python",
   "nbconvert_exporter": "python",
   "pygments_lexer": "ipython3",
   "version": "3.8.8"
  }
 },
 "nbformat": 4,
 "nbformat_minor": 5
}
